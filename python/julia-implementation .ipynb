{
 "cells": [
  {
   "cell_type": "markdown",
   "metadata": {
    "ExecuteTime": {
     "end_time": "2020-07-02T16:04:55.646000-04:00",
     "start_time": "2020-07-02T20:04:55.641Z"
    }
   },
   "source": [
    "# Implementing Direct and Indirect Methods of Solving in Julia for IO Tables"
   ]
  },
  {
   "cell_type": "code",
   "execution_count": null,
   "metadata": {
    "ExecuteTime": {
     "end_time": "2020-07-05T17:09:09.511000-04:00",
     "start_time": "2020-07-05T21:08:57.782Z"
    }
   },
   "outputs": [],
   "source": [
    "using LinearAlgebra"
   ]
  },
  {
   "cell_type": "code",
   "execution_count": null,
   "metadata": {
    "ExecuteTime": {
     "end_time": "2020-07-05T17:09:11.593000-04:00",
     "start_time": "2020-07-05T21:08:57.787Z"
    }
   },
   "outputs": [],
   "source": [
    "function generate_diag_dom_and_positive_def_matrix(size)\n",
    "    A = rand(Float64,(size,size))\n",
    "    \n",
    "    for i in CartesianIndices(A)  \n",
    "        if i[1] == i[2]\n",
    "        row=i[1]\n",
    "        column=i[2]\n",
    "        A[row,column]= A[row,column] * 100000\n",
    "        end\n",
    "    end \n",
    "    \n",
    "    b=rand(Float64,size) * 10000\n",
    "    x=rand(Float64,size)\n",
    "    \n",
    "    return (A,b,x)\n",
    "    end \n",
    "    \n",
    "A,b,x=generate_diag_dom_and_positive_def_matrix(10000)"
   ]
  },
  {
   "cell_type": "code",
   "execution_count": null,
   "metadata": {
    "ExecuteTime": {
     "end_time": "2020-07-05T17:09:12.065000-04:00",
     "start_time": "2020-07-05T21:08:57.789Z"
    }
   },
   "outputs": [],
   "source": [
    "function solve(A,b)\n",
    "   \n",
    "    x=inv(A) * b \n",
    "    \n",
    "end"
   ]
  },
  {
   "cell_type": "code",
   "execution_count": null,
   "metadata": {
    "ExecuteTime": {
     "end_time": "2020-07-05T17:10:04.949000-04:00",
     "start_time": "2020-07-05T21:08:57.795Z"
    }
   },
   "outputs": [],
   "source": [
    "solve(A,b)"
   ]
  },
  {
   "cell_type": "code",
   "execution_count": null,
   "metadata": {
    "ExecuteTime": {
     "end_time": "2020-07-05T17:10:08.965000-04:00",
     "start_time": "2020-07-05T21:08:57.797Z"
    }
   },
   "outputs": [],
   "source": [
    "jacobi(A,b,x,3)"
   ]
  },
  {
   "cell_type": "code",
   "execution_count": null,
   "metadata": {
    "ExecuteTime": {
     "end_time": "2020-07-05T17:10:09.159000-04:00",
     "start_time": "2020-07-05T21:08:57.799Z"
    }
   },
   "outputs": [],
   "source": [
    "function jacobi(A,b,x,n)\n",
    "     \"\"\" jacobi iteration solving Ax=b\n",
    "    \n",
    "    Parameters\n",
    "    ..........\n",
    "    \n",
    "    A: \n",
    "      ::Float64\n",
    "      a 2-dimensional mxm numpy array (matrix) , diagonally-dominant\n",
    "    \n",
    "    B:\n",
    "      ::Float64\n",
    "      a 1-dimensional mx1 numpy array ,shape (m,) and not (m,1)\n",
    "      \n",
    "    num_iterations:\n",
    "      an integral scalar which indicates number of iterations to run\n",
    "      \n",
    "    Returns\n",
    "    ..........\n",
    "    x:\n",
    "     ::Float64\n",
    "     a 1-dimensional mx1 numpy array ,shape (m,) and not (m,1)\n",
    "\n",
    "    \"\"\"\n",
    "    \n",
    "    diag=Diagonal(A)\n",
    "    upper=UpperTriangular(A)\n",
    "    lower=LowerTriangular(A)\n",
    "    for i in eachindex(upper)\n",
    "        if i[1] == i[2]\n",
    "            row=i[1]\n",
    "            column=i[2]\n",
    "            upper[row,column]=0\n",
    "        end\n",
    "    end \n",
    "\n",
    "    for i in eachindex(lower)\n",
    "        if i[1] == i[2]\n",
    "            row=i[1]\n",
    "            column=i[2]\n",
    "            lower[row,column]=0\n",
    "        end\n",
    "    end\n",
    "    \n",
    "    inverse=[i for i in inv(diag)]\n",
    "    LU=lower+upper\n",
    "    for i in 1:n\n",
    "        x= inverse * (b - LU * x)\n",
    "    end\n",
    "    \n",
    "    return x\n",
    "    \n",
    "    end \n",
    "## 41.5s, for jacobi in python\n",
    "## 5.71s,, for jacobi in julia"
   ]
  },
  {
   "cell_type": "code",
   "execution_count": null,
   "metadata": {
    "ExecuteTime": {
     "end_time": "2020-07-05T17:10:10.415000-04:00",
     "start_time": "2020-07-05T21:08:57.801Z"
    }
   },
   "outputs": [],
   "source": [
    "A,b,x=generate_diag_dom_and_positive_def_matrix(10000)"
   ]
  },
  {
   "cell_type": "code",
   "execution_count": null,
   "metadata": {
    "ExecuteTime": {
     "end_time": "2020-07-05T17:10:10.599000-04:00",
     "start_time": "2020-07-05T21:08:57.802Z"
    }
   },
   "outputs": [],
   "source": [
    "function gauss_seidel(A,b,x,n)\n",
    "\n",
    "    L=LowerTriangular(A)\n",
    "    U=A-L\n",
    "    inverse=-inv(L)\n",
    "    T=inverse * U\n",
    "    C= inverse * b\n",
    "\n",
    "    for i in 1:n\n",
    "        x=T * x + C\n",
    "    end\n",
    "\n",
    "    return x\n",
    "    \n",
    "    end "
   ]
  },
  {
   "cell_type": "code",
   "execution_count": null,
   "metadata": {
    "ExecuteTime": {
     "end_time": "2020-07-05T17:10:59.049000-04:00",
     "start_time": "2020-07-05T21:08:57.803Z"
    }
   },
   "outputs": [],
   "source": [
    "gauss_seidel(A,b,x,3)"
   ]
  }
 ],
 "metadata": {
  "kernelspec": {
   "display_name": "Julia 1.4.1",
   "language": "julia",
   "name": "julia-1.4"
  },
  "language_info": {
   "file_extension": ".jl",
   "mimetype": "application/julia",
   "name": "julia",
   "version": "1.4.1"
  }
 },
 "nbformat": 4,
 "nbformat_minor": 4
}
