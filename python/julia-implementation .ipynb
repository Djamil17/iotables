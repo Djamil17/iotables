{
 "cells": [
  {
   "cell_type": "markdown",
   "metadata": {
    "ExecuteTime": {
     "end_time": "2020-07-02T16:04:55.646000-04:00",
     "start_time": "2020-07-02T20:04:55.641Z"
    }
   },
   "source": [
    "# Implementing Direct and Indirect Methods of Solving in Julia for IO Tables"
   ]
  },
  {
   "cell_type": "code",
   "execution_count": 80,
   "metadata": {
    "ExecuteTime": {
     "end_time": "2020-07-19T15:27:01.787000-04:00",
     "start_time": "2020-07-19T19:27:00.475Z"
    }
   },
   "outputs": [],
   "source": [
    "using CSV\n",
    "using LinearAlgebra\n",
    "using Statistics "
   ]
  },
  {
   "cell_type": "code",
   "execution_count": 219,
   "metadata": {
    "ExecuteTime": {
     "end_time": "2020-07-19T18:05:47.638000-04:00",
     "start_time": "2020-07-19T22:05:47.429Z"
    }
   },
   "outputs": [
    {
     "data": {
      "text/plain": [
       "1×1 Array{Float64,2}:\n",
       " 0.9775736764543171"
      ]
     },
     "execution_count": 219,
     "metadata": {},
     "output_type": "execute_result"
    }
   ],
   "source": [
    "df=CSV.read(\"/Users/djamillakhdarhamina/Desktop/uk-1968.csv\")\n",
    "data=Matrix(df[:,:])\n",
    "A=data[1:30,2:31]\n",
    "O=transpose(data[38,2:31])\n",
    "V=transpose(data[33,2:31])\n"
   ]
  },
  {
   "cell_type": "code",
   "execution_count": 220,
   "metadata": {
    "ExecuteTime": {
     "end_time": "2020-07-19T18:06:28.727000-04:00",
     "start_time": "2020-07-19T22:06:28.720Z"
    }
   },
   "outputs": [
    {
     "data": {
      "text/plain": [
       "iterative_labor_calc (generic function with 2 methods)"
      ]
     },
     "execution_count": 220,
     "metadata": {},
     "output_type": "execute_result"
    }
   ],
   "source": [
    "function iterative_labor_calc(A,O,V,n_iterations)\n",
    "    \n",
    "    L=ones(length(V))\n",
    "    \n",
    "    O1=[]\n",
    "    \n",
    "    for i in 1:n_iterations\n",
    "        O1=sum(A.* L ,dims=1) + V \n",
    "        L=O1./O \n",
    "    end\n",
    "    \n",
    "    return O1\n",
    "    end "
   ]
  },
  {
   "cell_type": "code",
   "execution_count": null,
   "metadata": {
    "ExecuteTime": {
     "start_time": "2020-07-19T22:09:08.259Z"
    }
   },
   "outputs": [],
   "source": [
    "iterative_labor_calc(A,O,V,10000000)"
   ]
  },
  {
   "cell_type": "code",
   "execution_count": 59,
   "metadata": {
    "ExecuteTime": {
     "end_time": "2020-07-17T21:45:26.593000-04:00",
     "start_time": "2020-07-18T01:45:25.906Z"
    }
   },
   "outputs": [
    {
     "data": {
      "text/plain": [
       "30-element Array{Float64,1}:\n",
       " 1688.285787210091\n",
       " 7704.538919466979\n",
       " 7041.8222281432445\n",
       " 2018.232816031429\n",
       " 4744.3953739977915\n",
       " 5361.097882889742\n",
       " 5100.758813144044\n",
       " 5902.668109104523\n",
       " 4773.52480607347\n",
       "   36.629693136196465\n",
       " 6871.643085853969\n",
       " 7312.248595922497\n",
       " 3155.8080310824253\n",
       "    ⋮\n",
       " 3516.688234465191\n",
       " 9951.888245704213\n",
       "  206.88364567366557\n",
       " 2816.1714339246437\n",
       " 2842.1753544652706\n",
       " 6573.870315747412\n",
       " 2309.668480930598\n",
       " 3852.8695280057777\n",
       " 2172.2544523988695\n",
       " 7567.808223026462\n",
       "  256.93672530957554\n",
       " 4517.4066435383575"
      ]
     },
     "execution_count": 59,
     "metadata": {},
     "output_type": "execute_result"
    }
   ],
   "source": [
    "function generate_diag_dom_and_positive_def_matrix(size)\n",
    "    A = rand(Float64,(size,size))\n",
    "    \n",
    "    for i in CartesianIndices(A)  \n",
    "        if i[1] == i[2]\n",
    "        row=i[1]\n",
    "        column=i[2]\n",
    "        A[row,column]= A[row,column] * 100000\n",
    "        end\n",
    "    end \n",
    "    \n",
    "    b=rand(Float64,size) * 10000\n",
    "    x=rand(Float64,size)\n",
    "    \n",
    "    return (A,b,x)\n",
    "    end \n",
    "    \n",
    "A,O,V=generate_diag_dom_and_positive_def_matrix(30)"
   ]
  },
  {
   "cell_type": "code",
   "execution_count": null,
   "metadata": {
    "ExecuteTime": {
     "end_time": "2020-07-05T17:09:12.065000-04:00",
     "start_time": "2020-07-05T21:08:57.789Z"
    }
   },
   "outputs": [],
   "source": [
    "function solve(A,b)\n",
    "   \n",
    "    x=inv(A) * b \n",
    "    \n",
    "end"
   ]
  },
  {
   "cell_type": "code",
   "execution_count": null,
   "metadata": {
    "ExecuteTime": {
     "end_time": "2020-07-05T17:10:04.949000-04:00",
     "start_time": "2020-07-05T21:08:57.795Z"
    }
   },
   "outputs": [],
   "source": [
    "solve(A,b)"
   ]
  },
  {
   "cell_type": "code",
   "execution_count": null,
   "metadata": {
    "ExecuteTime": {
     "end_time": "2020-07-05T17:10:09.159000-04:00",
     "start_time": "2020-07-05T21:08:57.799Z"
    }
   },
   "outputs": [],
   "source": [
    "function jacobi(A,b,x,n)\n",
    "     \"\"\" jacobi iteration solving Ax=b\n",
    "    \n",
    "    Parameters\n",
    "    ..........\n",
    "    \n",
    "    A: \n",
    "      ::Float64\n",
    "      a 2-dimensional mxm numpy array (matrix) , diagonally-dominant\n",
    "    \n",
    "    B:\n",
    "      ::Float64\n",
    "      a 1-dimensional mx1 numpy array ,shape (m,) and not (m,1)\n",
    "      \n",
    "    num_iterations:\n",
    "      an integral scalar which indicates number of iterations to run\n",
    "      \n",
    "    Returns\n",
    "    ..........\n",
    "    x:\n",
    "     ::Float64\n",
    "     a 1-dimensional mx1 numpy array ,shape (m,) and not (m,1)\n",
    "\n",
    "    \"\"\"\n",
    "    \n",
    "    diag=Diagonal(A)\n",
    "    upper=UpperTriangular(A)\n",
    "    lower=LowerTriangular(A)\n",
    "    for i in eachindex(upper)\n",
    "        if i[1] == i[2]\n",
    "            row=i[1]\n",
    "            column=i[2]\n",
    "            upper[row,column]=0\n",
    "        end\n",
    "    end \n",
    "\n",
    "    for i in eachindex(lower)\n",
    "        if i[1] == i[2]\n",
    "            row=i[1]\n",
    "            column=i[2]\n",
    "            lower[row,column]=0\n",
    "        end\n",
    "    end\n",
    "    \n",
    "    inverse=[i for i in inv(diag)]\n",
    "    LU=lower+upper\n",
    "    for i in 1:n\n",
    "        x= inverse * (b - LU * x)\n",
    "    end\n",
    "    \n",
    "    return x\n",
    "    \n",
    "    end \n",
    "## 41.5s, for jacobi in python\n",
    "## 5.71s,, for jacobi in julia"
   ]
  },
  {
   "cell_type": "code",
   "execution_count": null,
   "metadata": {
    "ExecuteTime": {
     "end_time": "2020-07-05T17:10:08.965000-04:00",
     "start_time": "2020-07-05T21:08:57.797Z"
    }
   },
   "outputs": [],
   "source": [
    "jacobi(A,b,x,3)"
   ]
  },
  {
   "cell_type": "code",
   "execution_count": null,
   "metadata": {
    "ExecuteTime": {
     "end_time": "2020-07-05T17:10:10.415000-04:00",
     "start_time": "2020-07-05T21:08:57.801Z"
    }
   },
   "outputs": [],
   "source": [
    "A,b,x=generate_diag_dom_and_positive_def_matrix(10000)"
   ]
  },
  {
   "cell_type": "code",
   "execution_count": null,
   "metadata": {
    "ExecuteTime": {
     "end_time": "2020-07-05T17:10:10.599000-04:00",
     "start_time": "2020-07-05T21:08:57.802Z"
    }
   },
   "outputs": [],
   "source": [
    "function gauss_seidel(A,b,x,n)\n",
    "\n",
    "    L=LowerTriangular(A)\n",
    "    U=A-L\n",
    "    inverse=-inv(L)\n",
    "    T=inverse * U\n",
    "    C= inverse * b\n",
    "\n",
    "    for i in 1:n\n",
    "        x=T * x + C\n",
    "    end\n",
    "\n",
    "    return x\n",
    "    \n",
    "    end "
   ]
  },
  {
   "cell_type": "code",
   "execution_count": null,
   "metadata": {
    "ExecuteTime": {
     "end_time": "2020-07-05T17:10:59.049000-04:00",
     "start_time": "2020-07-05T21:08:57.803Z"
    }
   },
   "outputs": [],
   "source": [
    "gauss_seidel(A,b,x,3)"
   ]
  }
 ],
 "metadata": {
  "kernelspec": {
   "display_name": "Julia 1.4.1",
   "language": "julia",
   "name": "julia-1.4"
  },
  "language_info": {
   "file_extension": ".jl",
   "mimetype": "application/julia",
   "name": "julia",
   "version": "1.4.1"
  },
  "toc": {
   "base_numbering": 1,
   "nav_menu": {},
   "number_sections": true,
   "sideBar": true,
   "skip_h1_title": false,
   "title_cell": "Table of Contents",
   "title_sidebar": "Contents",
   "toc_cell": false,
   "toc_position": {},
   "toc_section_display": true,
   "toc_window_display": false
  }
 },
 "nbformat": 4,
 "nbformat_minor": 4
}
