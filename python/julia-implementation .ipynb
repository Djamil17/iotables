{
 "cells": [
  {
   "cell_type": "markdown",
   "metadata": {
    "ExecuteTime": {
     "end_time": "2020-07-02T16:04:55.646000-04:00",
     "start_time": "2020-07-02T20:04:55.641Z"
    }
   },
   "source": [
    "# Implementing Direct and Indirect Methods of Solving in Julia for IO Tables"
   ]
  },
  {
   "cell_type": "code",
   "execution_count": 3,
   "metadata": {
    "ExecuteTime": {
     "end_time": "2020-07-07T20:53:42.158000-04:00",
     "start_time": "2020-07-08T00:53:40.752Z"
    }
   },
   "outputs": [],
   "source": [
    "using LinearAlgebra\n",
    "using CSV\n"
   ]
  },
  {
   "cell_type": "code",
   "execution_count": 11,
   "metadata": {
    "ExecuteTime": {
     "end_time": "2020-07-07T20:56:55.116000-04:00",
     "start_time": "2020-07-08T00:56:55.070Z"
    }
   },
   "outputs": [
    {
     "data": {
      "text/html": [
       "<table class=\"data-frame\"><thead><tr><th></th><th>Column1</th><th>Agriculture, forestry &amp; fishing</th><th>Mining &amp; quarrying</th></tr><tr><th></th><th>String</th><th>Int64</th><th>Int64</th></tr></thead><tbody><p>43 rows × 46 columns (omitted printing of 43 columns)</p><tr><th>1</th><td>Agriculture, forestry &amp; fishing</td><td>3327</td><td>0</td></tr><tr><th>2</th><td>Mining &amp; quarrying</td><td>9</td><td>881</td></tr><tr><th>3</th><td>Food, beverages &amp; tobacco</td><td>2137</td><td>28</td></tr><tr><th>4</th><td>Textiles, apparel &amp; leather</td><td>92</td><td>2</td></tr><tr><th>5</th><td>Wood products &amp; furniture</td><td>42</td><td>40</td></tr><tr><th>6</th><td>Paper, paper products &amp; printing</td><td>169</td><td>28</td></tr><tr><th>7</th><td>Industrial chemicals</td><td>1020</td><td>50</td></tr><tr><th>8</th><td>Drugs &amp; medicines</td><td>31</td><td>4</td></tr><tr><th>9</th><td>Petroleum &amp; coal products</td><td>169</td><td>13</td></tr><tr><th>10</th><td>Rubber &amp; plastic products</td><td>125</td><td>46</td></tr><tr><th>11</th><td>Non-metallic mineral products</td><td>79</td><td>6</td></tr><tr><th>12</th><td>Iron &amp; steel</td><td>33</td><td>232</td></tr><tr><th>13</th><td>Non-ferrous metals</td><td>14</td><td>10</td></tr><tr><th>14</th><td>Metal products</td><td>56</td><td>118</td></tr><tr><th>15</th><td>Non-electrical machinery</td><td>154</td><td>1089</td></tr><tr><th>16</th><td>Office &amp; computing machinery</td><td>13</td><td>31</td></tr><tr><th>17</th><td>Electrical apparatus, nec</td><td>20</td><td>84</td></tr><tr><th>18</th><td>Radio, TV &amp; communication equipment</td><td>14</td><td>39</td></tr><tr><th>19</th><td>Shipbuilding &amp; repairing</td><td>28</td><td>262</td></tr><tr><th>20</th><td>Other transport</td><td>7</td><td>1</td></tr><tr><th>21</th><td>Motor vehicles</td><td>46</td><td>20</td></tr><tr><th>22</th><td>Aircraft</td><td>6</td><td>13</td></tr><tr><th>23</th><td>Professional goods</td><td>9</td><td>15</td></tr><tr><th>24</th><td>Other manufacturing</td><td>23</td><td>3</td></tr><tr><th>25</th><td>Electricity, gas &amp; water</td><td>339</td><td>218</td></tr><tr><th>26</th><td>Construction</td><td>244</td><td>5</td></tr><tr><th>27</th><td>Wholesale &amp; retail trade</td><td>1032</td><td>357</td></tr><tr><th>28</th><td>Restaurants &amp; hotels</td><td>33</td><td>24</td></tr><tr><th>29</th><td>Transport &amp; storage</td><td>133</td><td>1686</td></tr><tr><th>30</th><td>Communication</td><td>154</td><td>22</td></tr><tr><th>&vellip;</th><td>&vellip;</td><td>&vellip;</td><td>&vellip;</td></tr></tbody></table>"
      ],
      "text/latex": [
       "\\begin{tabular}{r|cccc}\n",
       "\t& Column1 & Agriculture, forestry \\& fishing & Mining \\& quarrying & \\\\\n",
       "\t\\hline\n",
       "\t& String & Int64 & Int64 & \\\\\n",
       "\t\\hline\n",
       "\t1 & Agriculture, forestry \\& fishing & 3327 & 0 & $\\dots$ \\\\\n",
       "\t2 & Mining \\& quarrying & 9 & 881 & $\\dots$ \\\\\n",
       "\t3 & Food, beverages \\& tobacco & 2137 & 28 & $\\dots$ \\\\\n",
       "\t4 & Textiles, apparel \\& leather & 92 & 2 & $\\dots$ \\\\\n",
       "\t5 & Wood products \\& furniture & 42 & 40 & $\\dots$ \\\\\n",
       "\t6 & Paper, paper products \\& printing & 169 & 28 & $\\dots$ \\\\\n",
       "\t7 & Industrial chemicals & 1020 & 50 & $\\dots$ \\\\\n",
       "\t8 & Drugs \\& medicines & 31 & 4 & $\\dots$ \\\\\n",
       "\t9 & Petroleum \\& coal products & 169 & 13 & $\\dots$ \\\\\n",
       "\t10 & Rubber \\& plastic products & 125 & 46 & $\\dots$ \\\\\n",
       "\t11 & Non-metallic mineral products & 79 & 6 & $\\dots$ \\\\\n",
       "\t12 & Iron \\& steel & 33 & 232 & $\\dots$ \\\\\n",
       "\t13 & Non-ferrous metals & 14 & 10 & $\\dots$ \\\\\n",
       "\t14 & Metal products & 56 & 118 & $\\dots$ \\\\\n",
       "\t15 & Non-electrical machinery & 154 & 1089 & $\\dots$ \\\\\n",
       "\t16 & Office \\& computing machinery & 13 & 31 & $\\dots$ \\\\\n",
       "\t17 & Electrical apparatus, nec & 20 & 84 & $\\dots$ \\\\\n",
       "\t18 & Radio, TV \\& communication equipment & 14 & 39 & $\\dots$ \\\\\n",
       "\t19 & Shipbuilding \\& repairing & 28 & 262 & $\\dots$ \\\\\n",
       "\t20 & Other transport & 7 & 1 & $\\dots$ \\\\\n",
       "\t21 & Motor vehicles & 46 & 20 & $\\dots$ \\\\\n",
       "\t22 & Aircraft & 6 & 13 & $\\dots$ \\\\\n",
       "\t23 & Professional goods & 9 & 15 & $\\dots$ \\\\\n",
       "\t24 & Other manufacturing & 23 & 3 & $\\dots$ \\\\\n",
       "\t25 & Electricity, gas \\& water & 339 & 218 & $\\dots$ \\\\\n",
       "\t26 & Construction & 244 & 5 & $\\dots$ \\\\\n",
       "\t27 & Wholesale \\& retail trade & 1032 & 357 & $\\dots$ \\\\\n",
       "\t28 & Restaurants \\& hotels & 33 & 24 & $\\dots$ \\\\\n",
       "\t29 & Transport \\& storage & 133 & 1686 & $\\dots$ \\\\\n",
       "\t30 & Communication & 154 & 22 & $\\dots$ \\\\\n",
       "\t$\\dots$ & $\\dots$ & $\\dots$ & $\\dots$ &  \\\\\n",
       "\\end{tabular}\n"
      ],
      "text/plain": [
       "43×46 DataFrames.DataFrame. Omitted printing of 45 columns\n",
       "│ Row │ Column1                               │\n",
       "│     │ \u001b[90mString\u001b[39m                                │\n",
       "├─────┼───────────────────────────────────────┤\n",
       "│ 1   │ Agriculture, forestry & fishing       │\n",
       "│ 2   │ Mining & quarrying                    │\n",
       "│ 3   │ Food, beverages & tobacco             │\n",
       "│ 4   │ Textiles, apparel & leather           │\n",
       "│ 5   │ Wood products & furniture             │\n",
       "│ 6   │ Paper, paper products & printing      │\n",
       "│ 7   │ Industrial chemicals                  │\n",
       "│ 8   │ Drugs & medicines                     │\n",
       "│ 9   │ Petroleum & coal products             │\n",
       "│ 10  │ Rubber & plastic products             │\n",
       "⋮\n",
       "│ 33  │ Community, social & personal services │\n",
       "│ 34  │ Producers of government services      │\n",
       "│ 35  │ Other producers                       │\n",
       "│ 36  │ Statistical discrepancy               │\n",
       "│ 37  │ Total                                 │\n",
       "│ 38  │ Compensation of employees             │\n",
       "│ 39  │ Gross operating surplus               │\n",
       "│ 40  │ Indirect taxes, net                   │\n",
       "│ 41  │ Sales by final buyers                 │\n",
       "│ 42  │ Value added                           │\n",
       "│ 43  │ Gross output                          │"
      ]
     },
     "execution_count": 11,
     "metadata": {},
     "output_type": "execute_result"
    }
   ],
   "source": [
    "data=CSV.read(\"/Users/djamillakhdarhamina/Desktop/io.csv\")"
   ]
  },
  {
   "cell_type": "code",
   "execution_count": 5,
   "metadata": {
    "ExecuteTime": {
     "end_time": "2020-07-07T20:54:37.768000-04:00",
     "start_time": "2020-07-08T00:54:37.533Z"
    }
   },
   "outputs": [
    {
     "ename": "LoadError",
     "evalue": "syntax: space required before \"?\" operator",
     "output_type": "error",
     "traceback": [
      "syntax: space required before \"?\" operator",
      ""
     ]
    }
   ],
   "source": [
    "CSV.read"
   ]
  },
  {
   "cell_type": "code",
   "execution_count": 16,
   "metadata": {
    "ExecuteTime": {
     "end_time": "2020-07-07T21:00:34.184000-04:00",
     "start_time": "2020-07-08T01:00:32.925Z"
    }
   },
   "outputs": [
    {
     "data": {
      "text/plain": [
       "10000-element Array{Float64,1}:\n",
       " 9.5736066517972e7\n",
       " 5.224612187011461e8\n",
       " 1.2246766551760031e8\n",
       " 2.3096718838413507e8\n",
       " 8.239247323862321e8\n",
       " 7.017094552643271e7\n",
       " 1.1135602812992848e8\n",
       " 9.152416542878456e7\n",
       " 2.0743945789174646e8\n",
       " 4.1501000771345323e8\n",
       " 2.795461294630116e8\n",
       " 3.844411741252741e8\n",
       " 3.538185263006446e7\n",
       " ⋮\n",
       " 6.884432152913849e8\n",
       " 1.1229424099104775e8\n",
       " 1.0172076399285698e8\n",
       " 8.599279990584737e7\n",
       " 6.359130041077683e7\n",
       " 7.101926303223573e7\n",
       " 2.682928626804794e8\n",
       " 5.356476241965848e8\n",
       " 5.604105117980628e8\n",
       " 2.631441652402129e7\n",
       " 6.236492536571695e8\n",
       " 6.871969108719239e7"
      ]
     },
     "execution_count": 16,
     "metadata": {},
     "output_type": "execute_result"
    }
   ],
   "source": []
  },
  {
   "cell_type": "code",
   "execution_count": 17,
   "metadata": {
    "ExecuteTime": {
     "end_time": "2020-07-07T21:00:59.411000-04:00",
     "start_time": "2020-07-08T01:00:59.145Z"
    }
   },
   "outputs": [
    {
     "data": {
      "text/plain": [
       "iterative_labor_calc (generic function with 1 method)"
      ]
     },
     "execution_count": 17,
     "metadata": {},
     "output_type": "execute_result"
    }
   ],
   "source": [
    "function iterative_labor_calc(A,O,V,L,n_iterations)\n",
    "    \n",
    "    T=transpose(A)\n",
    "    \n",
    "    for i in 1:n_iterations\n",
    "        O1=(T * L ) + V\n",
    "        L=O1/O\n",
    "    end\n",
    "    \n",
    "    return L \n",
    "    end "
   ]
  },
  {
   "cell_type": "code",
   "execution_count": 18,
   "metadata": {
    "ExecuteTime": {
     "end_time": "2020-07-07T21:01:23.397000-04:00",
     "start_time": "2020-07-08T01:01:23.294Z"
    }
   },
   "outputs": [
    {
     "ename": "UndefVarError",
     "evalue": "UndefVarError: L not defined",
     "output_type": "error",
     "traceback": [
      "UndefVarError: L not defined",
      "",
      "Stacktrace:",
      " [1] iterative_labor_calc(::Array{Float64,2}, ::Array{Float64,1}, ::Array{Float64,1}, ::Int64) at ./In[17]:6",
      " [2] top-level scope at In[18]:1"
     ]
    }
   ],
   "source": [
    "iterative_labor_calc(A,b,x,10)"
   ]
  },
  {
   "cell_type": "code",
   "execution_count": 12,
   "metadata": {
    "ExecuteTime": {
     "end_time": "2020-07-07T20:58:30.885000-04:00",
     "start_time": "2020-07-08T00:58:29.287Z"
    }
   },
   "outputs": [
    {
     "data": {
      "text/plain": [
       "([30885.652114178218 0.8440603926216592 … 0.43071313505825115 0.5444861679708057; 0.444926157689149 67005.45463287865 … 0.7985850750484316 0.995653991171281; … ; 0.28060914856680297 0.874515510271161 … 62250.48928503592 0.12272640031031701; 0.41737818462083953 0.5524373908621099 … 0.4738958667642199 13195.1154513823], [2285.1262472300405, 7422.056010888243, 3127.238163963546, 2092.807075058296, 9796.720088160191, 976.5595784617931, 1127.0950638123734, 831.5838560878097, 2389.453740216563, 7721.477441307918  …  1356.1952366987628, 611.6768311079524, 5346.045497907204, 907.5356701259429, 8598.502534566785, 9500.977104873913, 8827.020791802372, 138.87885963687285, 9621.071805586154, 3308.0708105800372], [0.8482565105085926, 0.35864135160250354, 0.6425189984184028, 0.49473260104728944, 0.06868026577740016, 0.6855134230298559, 0.8914132756203919, 0.6457787044441925, 0.35844526788037223, 0.12661957597396922  …  0.7363604307468399, 0.6111316225947225, 0.8804604105098803, 0.06825264865007341, 0.8428699558136774, 0.541511342546001, 0.16760457257353734, 0.8473475787571132, 0.5973177757152264, 0.35905910144408826])"
      ]
     },
     "execution_count": 12,
     "metadata": {},
     "output_type": "execute_result"
    }
   ],
   "source": [
    "function generate_diag_dom_and_positive_def_matrix(size)\n",
    "    A = rand(Float64,(size,size))\n",
    "    \n",
    "    for i in CartesianIndices(A)  \n",
    "        if i[1] == i[2]\n",
    "        row=i[1]\n",
    "        column=i[2]\n",
    "        A[row,column]= A[row,column] * 100000\n",
    "        end\n",
    "    end \n",
    "    \n",
    "    b=rand(Float64,size) * 10000\n",
    "    x=rand(Float64,size)\n",
    "    \n",
    "    return (A,b,x)\n",
    "    end \n",
    "    \n",
    "A,b,x=generate_diag_dom_and_positive_def_matrix(10000)"
   ]
  },
  {
   "cell_type": "code",
   "execution_count": null,
   "metadata": {
    "ExecuteTime": {
     "end_time": "2020-07-05T17:09:12.065000-04:00",
     "start_time": "2020-07-05T21:08:57.789Z"
    }
   },
   "outputs": [],
   "source": [
    "function solve(A,b)\n",
    "   \n",
    "    x=inv(A) * b \n",
    "    \n",
    "end"
   ]
  },
  {
   "cell_type": "code",
   "execution_count": null,
   "metadata": {
    "ExecuteTime": {
     "end_time": "2020-07-05T17:10:04.949000-04:00",
     "start_time": "2020-07-05T21:08:57.795Z"
    }
   },
   "outputs": [],
   "source": [
    "solve(A,b)"
   ]
  },
  {
   "cell_type": "code",
   "execution_count": null,
   "metadata": {
    "ExecuteTime": {
     "end_time": "2020-07-05T17:10:08.965000-04:00",
     "start_time": "2020-07-05T21:08:57.797Z"
    }
   },
   "outputs": [],
   "source": [
    "jacobi(A,b,x,3)"
   ]
  },
  {
   "cell_type": "code",
   "execution_count": null,
   "metadata": {
    "ExecuteTime": {
     "end_time": "2020-07-05T17:10:09.159000-04:00",
     "start_time": "2020-07-05T21:08:57.799Z"
    }
   },
   "outputs": [],
   "source": [
    "function jacobi(A,b,x,n)\n",
    "     \"\"\" jacobi iteration solving Ax=b\n",
    "    \n",
    "    Parameters\n",
    "    ..........\n",
    "    \n",
    "    A: \n",
    "      ::Float64\n",
    "      a 2-dimensional mxm numpy array (matrix) , diagonally-dominant\n",
    "    \n",
    "    B:\n",
    "      ::Float64\n",
    "      a 1-dimensional mx1 numpy array ,shape (m,) and not (m,1)\n",
    "      \n",
    "    num_iterations:\n",
    "      an integral scalar which indicates number of iterations to run\n",
    "      \n",
    "    Returns\n",
    "    ..........\n",
    "    x:\n",
    "     ::Float64\n",
    "     a 1-dimensional mx1 numpy array ,shape (m,) and not (m,1)\n",
    "\n",
    "    \"\"\"\n",
    "    \n",
    "    diag=Diagonal(A)\n",
    "    upper=UpperTriangular(A)\n",
    "    lower=LowerTriangular(A)\n",
    "    for i in eachindex(upper)\n",
    "        if i[1] == i[2]\n",
    "            row=i[1]\n",
    "            column=i[2]\n",
    "            upper[row,column]=0\n",
    "        end\n",
    "    end \n",
    "\n",
    "    for i in eachindex(lower)\n",
    "        if i[1] == i[2]\n",
    "            row=i[1]\n",
    "            column=i[2]\n",
    "            lower[row,column]=0\n",
    "        end\n",
    "    end\n",
    "    \n",
    "    inverse=[i for i in inv(diag)]\n",
    "    LU=lower+upper\n",
    "    for i in 1:n\n",
    "        x= inverse * (b - LU * x)\n",
    "    end\n",
    "    \n",
    "    return x\n",
    "    \n",
    "    end \n",
    "## 41.5s, for jacobi in python\n",
    "## 5.71s,, for jacobi in julia"
   ]
  },
  {
   "cell_type": "code",
   "execution_count": null,
   "metadata": {
    "ExecuteTime": {
     "end_time": "2020-07-05T17:10:10.415000-04:00",
     "start_time": "2020-07-05T21:08:57.801Z"
    }
   },
   "outputs": [],
   "source": [
    "A,b,x=generate_diag_dom_and_positive_def_matrix(10000)"
   ]
  },
  {
   "cell_type": "code",
   "execution_count": null,
   "metadata": {
    "ExecuteTime": {
     "end_time": "2020-07-05T17:10:10.599000-04:00",
     "start_time": "2020-07-05T21:08:57.802Z"
    }
   },
   "outputs": [],
   "source": [
    "function gauss_seidel(A,b,x,n)\n",
    "\n",
    "    L=LowerTriangular(A)\n",
    "    U=A-L\n",
    "    inverse=-inv(L)\n",
    "    T=inverse * U\n",
    "    C= inverse * b\n",
    "\n",
    "    for i in 1:n\n",
    "        x=T * x + C\n",
    "    end\n",
    "\n",
    "    return x\n",
    "    \n",
    "    end "
   ]
  },
  {
   "cell_type": "code",
   "execution_count": null,
   "metadata": {
    "ExecuteTime": {
     "end_time": "2020-07-05T17:10:59.049000-04:00",
     "start_time": "2020-07-05T21:08:57.803Z"
    }
   },
   "outputs": [],
   "source": [
    "gauss_seidel(A,b,x,3)"
   ]
  }
 ],
 "metadata": {
  "kernelspec": {
   "display_name": "Julia 1.4.1",
   "language": "julia",
   "name": "julia-1.4"
  },
  "language_info": {
   "file_extension": ".jl",
   "mimetype": "application/julia",
   "name": "julia",
   "version": "1.4.1"
  }
 },
 "nbformat": 4,
 "nbformat_minor": 4
}
