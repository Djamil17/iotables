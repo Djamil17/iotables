{
 "cells": [
  {
   "cell_type": "markdown",
   "metadata": {
    "ExecuteTime": {
     "end_time": "2020-07-02T16:04:55.646000-04:00",
     "start_time": "2020-07-02T20:04:55.641Z"
    }
   },
   "source": [
    "# Implementing in Julia"
   ]
  },
  {
   "cell_type": "code",
   "execution_count": 73,
   "metadata": {
    "ExecuteTime": {
     "end_time": "2020-07-02T16:33:57.850000-04:00",
     "start_time": "2020-07-02T20:33:57.841Z"
    }
   },
   "outputs": [
    {
     "data": {
      "text/plain": [
       "3×3 Diagonal{Int64,Array{Int64,1}}:\n",
       " 3  ⋅  ⋅\n",
       " ⋅  5  ⋅\n",
       " ⋅  ⋅  2"
      ]
     },
     "execution_count": 73,
     "metadata": {},
     "output_type": "execute_result"
    }
   ],
   "source": [
    "using LinearAlgebra\n",
    "\n",
    "A = [3 2 3; 4 5 6; 7 8 2]\n",
    "\n",
    "diag=Diagonal(A)"
   ]
  },
  {
   "cell_type": "code",
   "execution_count": 75,
   "metadata": {
    "ExecuteTime": {
     "end_time": "2020-07-02T16:34:07.187000-04:00",
     "start_time": "2020-07-02T20:34:07.161Z"
    }
   },
   "outputs": [],
   "source": [
    "upper=UpperTriangular(A)\n",
    "lower=LowerTriangular(A)\n",
    "for i in eachindex(upper)\n",
    "    if i[1] == i[2]\n",
    "        row=i[1]\n",
    "        column=i[2]\n",
    "        upper[row,column]=0\n",
    "    end\n",
    "end \n",
    "\n",
    "for i in eachindex(lower)\n",
    "    if i[1] == i[2]\n",
    "        row=i[1]\n",
    "        column=i[2]\n",
    "        lower[row,column]=0\n",
    "    end\n",
    "end"
   ]
  },
  {
   "cell_type": "code",
   "execution_count": 76,
   "metadata": {
    "ExecuteTime": {
     "end_time": "2020-07-02T16:34:19.218000-04:00",
     "start_time": "2020-07-02T20:34:19.216Z"
    }
   },
   "outputs": [
    {
     "data": {
      "text/plain": [
       "3×3 UpperTriangular{Int64,Array{Int64,2}}:\n",
       " 0  2  3\n",
       " ⋅  0  6\n",
       " ⋅  ⋅  0"
      ]
     },
     "execution_count": 76,
     "metadata": {},
     "output_type": "execute_result"
    }
   ],
   "source": [
    "upper"
   ]
  },
  {
   "cell_type": "code",
   "execution_count": 77,
   "metadata": {
    "ExecuteTime": {
     "end_time": "2020-07-02T16:34:21.332000-04:00",
     "start_time": "2020-07-02T20:34:21.330Z"
    }
   },
   "outputs": [
    {
     "data": {
      "text/plain": [
       "3×3 LowerTriangular{Int64,Array{Int64,2}}:\n",
       " 0  ⋅  ⋅\n",
       " 4  0  ⋅\n",
       " 7  8  0"
      ]
     },
     "execution_count": 77,
     "metadata": {},
     "output_type": "execute_result"
    }
   ],
   "source": [
    "lower"
   ]
  },
  {
   "cell_type": "code",
   "execution_count": 78,
   "metadata": {
    "ExecuteTime": {
     "end_time": "2020-07-02T16:34:29.077000-04:00",
     "start_time": "2020-07-02T20:34:29.075Z"
    }
   },
   "outputs": [
    {
     "data": {
      "text/plain": [
       "3×3 Diagonal{Int64,Array{Int64,1}}:\n",
       " 3  ⋅  ⋅\n",
       " ⋅  5  ⋅\n",
       " ⋅  ⋅  2"
      ]
     },
     "execution_count": 78,
     "metadata": {},
     "output_type": "execute_result"
    }
   ],
   "source": [
    "diag"
   ]
  }
 ],
 "metadata": {
  "kernelspec": {
   "display_name": "Julia 1.4.1",
   "language": "julia",
   "name": "julia-1.4"
  },
  "language_info": {
   "file_extension": ".jl",
   "mimetype": "application/julia",
   "name": "julia",
   "version": "1.4.1"
  }
 },
 "nbformat": 4,
 "nbformat_minor": 4
}
