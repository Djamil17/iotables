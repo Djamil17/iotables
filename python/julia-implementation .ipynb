{
 "cells": [
  {
   "cell_type": "markdown",
   "metadata": {
    "ExecuteTime": {
     "end_time": "2020-07-02T16:04:55.646000-04:00",
     "start_time": "2020-07-02T20:04:55.641Z"
    }
   },
   "source": [
    "# Implementing Direct and Indirect Methods of Solving in Julia for IO Tables"
   ]
  },
  {
   "cell_type": "code",
   "execution_count": 6,
   "metadata": {
    "ExecuteTime": {
     "end_time": "2020-07-17T21:06:13.363000-04:00",
     "start_time": "2020-07-18T01:06:12.008Z"
    }
   },
   "outputs": [],
   "source": [
    "using LinearAlgebra\n",
    "using CSV\n"
   ]
  },
  {
   "cell_type": "code",
   "execution_count": 50,
   "metadata": {
    "ExecuteTime": {
     "end_time": "2020-07-17T21:40:58.656000-04:00",
     "start_time": "2020-07-18T01:40:58.106Z"
    }
   },
   "outputs": [
    {
     "data": {
      "text/html": [
       "<table class=\"data-frame\"><thead><tr><th></th><th>Column1</th><th>Agriculture, forestry &amp; fishing</th><th>Mining &amp; quarrying</th></tr><tr><th></th><th>String?</th><th>Int64?</th><th>Int64?</th></tr></thead><tbody><p>49 rows × 32 columns (omitted printing of 29 columns)</p><tr><th>1</th><td>Agriculture, forestry &amp; fishing</td><td>533</td><td>0</td></tr><tr><th>2</th><td>Mining &amp; quarrying</td><td>7</td><td>5</td></tr><tr><th>3</th><td>Food, beverages &amp; tobacco</td><td>452</td><td>0</td></tr><tr><th>4</th><td>Textiles, apparel &amp; leather</td><td>16</td><td>4</td></tr><tr><th>5</th><td>Wood products &amp; furniture</td><td>21</td><td>13</td></tr><tr><th>6</th><td>Paper, paper products &amp; printing</td><td>4</td><td>4</td></tr><tr><th>7</th><td>Industrial chemicals</td><td>159</td><td>16</td></tr><tr><th>8</th><td>Drugs &amp; medicines</td><td>10</td><td>0</td></tr><tr><th>9</th><td>Petroleum &amp; coal products</td><td>38</td><td>18</td></tr><tr><th>10</th><td>Rubber &amp; plastic products</td><td>9</td><td>6</td></tr><tr><th>11</th><td>Non-metallic mineral products</td><td>26</td><td>4</td></tr><tr><th>12</th><td>Iron &amp; steel</td><td>0</td><td>38</td></tr><tr><th>13</th><td>Non-ferrous metals</td><td>0</td><td>0</td></tr><tr><th>14</th><td>Metal products</td><td>8</td><td>17</td></tr><tr><th>15</th><td>Non-electrical machinery</td><td>27</td><td>57</td></tr><tr><th>16</th><td>Office &amp; computing machinery</td><td>0</td><td>0</td></tr><tr><th>17</th><td>Electrical apparatus, nec</td><td>0</td><td>15</td></tr><tr><th>18</th><td>Radio, TV &amp; communication equipment</td><td>0</td><td>0</td></tr><tr><th>19</th><td>Shipbuilding &amp; repairing</td><td>7</td><td>0</td></tr><tr><th>20</th><td>Other transport</td><td>0</td><td>0</td></tr><tr><th>21</th><td>Motor vehicles</td><td>3</td><td>1</td></tr><tr><th>22</th><td>Aircraft</td><td>0</td><td>0</td></tr><tr><th>23</th><td>Professional goods</td><td>0</td><td>0</td></tr><tr><th>24</th><td>Other manufacturing</td><td>0</td><td>0</td></tr><tr><th>25</th><td>Electricity, gas &amp; water</td><td>25</td><td>40</td></tr><tr><th>26</th><td>Construction</td><td>43</td><td>36</td></tr><tr><th>27</th><td>Wholesale &amp; retail trade</td><td>108</td><td>18</td></tr><tr><th>28</th><td>Restaurants &amp; hotels</td><td>1</td><td>1</td></tr><tr><th>29</th><td>Transport &amp; storage</td><td>41</td><td>23</td></tr><tr><th>30</th><td>Communication</td><td>6</td><td>2</td></tr><tr><th>&vellip;</th><td>&vellip;</td><td>&vellip;</td><td>&vellip;</td></tr></tbody></table>"
      ],
      "text/latex": [
       "\\begin{tabular}{r|cccc}\n",
       "\t& Column1 & Agriculture, forestry \\& fishing & Mining \\& quarrying & \\\\\n",
       "\t\\hline\n",
       "\t& String? & Int64? & Int64? & \\\\\n",
       "\t\\hline\n",
       "\t1 & Agriculture, forestry \\& fishing & 533 & 0 & $\\dots$ \\\\\n",
       "\t2 & Mining \\& quarrying & 7 & 5 & $\\dots$ \\\\\n",
       "\t3 & Food, beverages \\& tobacco & 452 & 0 & $\\dots$ \\\\\n",
       "\t4 & Textiles, apparel \\& leather & 16 & 4 & $\\dots$ \\\\\n",
       "\t5 & Wood products \\& furniture & 21 & 13 & $\\dots$ \\\\\n",
       "\t6 & Paper, paper products \\& printing & 4 & 4 & $\\dots$ \\\\\n",
       "\t7 & Industrial chemicals & 159 & 16 & $\\dots$ \\\\\n",
       "\t8 & Drugs \\& medicines & 10 & 0 & $\\dots$ \\\\\n",
       "\t9 & Petroleum \\& coal products & 38 & 18 & $\\dots$ \\\\\n",
       "\t10 & Rubber \\& plastic products & 9 & 6 & $\\dots$ \\\\\n",
       "\t11 & Non-metallic mineral products & 26 & 4 & $\\dots$ \\\\\n",
       "\t12 & Iron \\& steel & 0 & 38 & $\\dots$ \\\\\n",
       "\t13 & Non-ferrous metals & 0 & 0 & $\\dots$ \\\\\n",
       "\t14 & Metal products & 8 & 17 & $\\dots$ \\\\\n",
       "\t15 & Non-electrical machinery & 27 & 57 & $\\dots$ \\\\\n",
       "\t16 & Office \\& computing machinery & 0 & 0 & $\\dots$ \\\\\n",
       "\t17 & Electrical apparatus, nec & 0 & 15 & $\\dots$ \\\\\n",
       "\t18 & Radio, TV \\& communication equipment & 0 & 0 & $\\dots$ \\\\\n",
       "\t19 & Shipbuilding \\& repairing & 7 & 0 & $\\dots$ \\\\\n",
       "\t20 & Other transport & 0 & 0 & $\\dots$ \\\\\n",
       "\t21 & Motor vehicles & 3 & 1 & $\\dots$ \\\\\n",
       "\t22 & Aircraft & 0 & 0 & $\\dots$ \\\\\n",
       "\t23 & Professional goods & 0 & 0 & $\\dots$ \\\\\n",
       "\t24 & Other manufacturing & 0 & 0 & $\\dots$ \\\\\n",
       "\t25 & Electricity, gas \\& water & 25 & 40 & $\\dots$ \\\\\n",
       "\t26 & Construction & 43 & 36 & $\\dots$ \\\\\n",
       "\t27 & Wholesale \\& retail trade & 108 & 18 & $\\dots$ \\\\\n",
       "\t28 & Restaurants \\& hotels & 1 & 1 & $\\dots$ \\\\\n",
       "\t29 & Transport \\& storage & 41 & 23 & $\\dots$ \\\\\n",
       "\t30 & Communication & 6 & 2 & $\\dots$ \\\\\n",
       "\t$\\dots$ & $\\dots$ & $\\dots$ & $\\dots$ &  \\\\\n",
       "\\end{tabular}\n"
      ],
      "text/plain": [
       "49×32 DataFrames.DataFrame. Omitted printing of 30 columns\n",
       "│ Row │ Column1                          │ Agriculture, forestry & fishing │\n",
       "│     │ \u001b[90mUnion{Missing, String}\u001b[39m           │ \u001b[90mUnion{Missing, Int64}\u001b[39m           │\n",
       "├─────┼──────────────────────────────────┼─────────────────────────────────┤\n",
       "│ 1   │ Agriculture, forestry & fishing  │ 533                             │\n",
       "│ 2   │ Mining & quarrying               │ 7                               │\n",
       "│ 3   │ Food, beverages & tobacco        │ 452                             │\n",
       "│ 4   │ Textiles, apparel & leather      │ 16                              │\n",
       "│ 5   │ Wood products & furniture        │ 21                              │\n",
       "│ 6   │ Paper, paper products & printing │ 4                               │\n",
       "│ 7   │ Industrial chemicals             │ 159                             │\n",
       "│ 8   │ Drugs & medicines                │ 10                              │\n",
       "│ 9   │ Petroleum & coal products        │ 38                              │\n",
       "│ 10  │ Rubber & plastic products        │ 9                               │\n",
       "⋮\n",
       "│ 39  │ Finance & insurance              │ 3                               │\n",
       "│ 40  │ Real estate & business services  │ 5                               │\n",
       "│ 41  │ Producers of government services │ 0                               │\n",
       "│ 42  │ Other producers                  │ 0                               │\n",
       "│ 43  │ Statistical discrepancy          │ 0                               │\n",
       "│ 44  │ \u001b[90mmissing\u001b[39m                          │ \u001b[90mmissing\u001b[39m                         │\n",
       "│ 45  │ C                                │ 1568                            │\n",
       "│ 46  │ V                                │ 376                             │\n",
       "│ 47  │ S                                │ 568                             │\n",
       "│ 48  │ X                                │ 2512                            │\n",
       "│ 49  │ L                                │ 376                             │"
      ]
     },
     "execution_count": 50,
     "metadata": {},
     "output_type": "execute_result"
    }
   ],
   "source": [
    "data=CSV.read(\"/Users/djamillakhdarhamina/Desktop/uk-1968.csv\")\n",
    "data"
   ]
  },
  {
   "cell_type": "code",
   "execution_count": 55,
   "metadata": {
    "ExecuteTime": {
     "end_time": "2020-07-17T21:42:02.538000-04:00",
     "start_time": "2020-07-18T01:42:02.532Z"
    }
   },
   "outputs": [
    {
     "data": {
      "text/plain": [
       "29-element Array{String,1}:\n",
       " \"Agriculture, forestry & fishing\"\n",
       " \"Mining & quarrying\"\n",
       " \"Food, beverages & tobacco\"\n",
       " \"Textiles, apparel & leather\"\n",
       " \"Wood products & furniture\"\n",
       " \"Paper, paper products & printing\"\n",
       " \"Industrial chemicals\"\n",
       " \"Drugs & medicines\"\n",
       " \"Petroleum & coal products\"\n",
       " \"Rubber & plastic products\"\n",
       " \"Non-metallic mineral products\"\n",
       " \"Iron & steel\"\n",
       " \"Non-ferrous metals\"\n",
       " ⋮\n",
       " \"Radio, TV & communication equipment\"\n",
       " \"Shipbuilding & repairing\"\n",
       " \"Other transport\"\n",
       " \"Motor vehicles\"\n",
       " \"Aircraft\"\n",
       " \"Professional goods\"\n",
       " \"Other manufacturing\"\n",
       " \"Electricity, gas & water\"\n",
       " \"Construction\"\n",
       " \"Wholesale & retail trade\"\n",
       " \"Restaurants & hotels\"\n",
       " \"Transport & storage\""
      ]
     },
     "execution_count": 55,
     "metadata": {},
     "output_type": "execute_result"
    }
   ],
   "source": [
    "names(data[1:30,2:30])"
   ]
  },
  {
   "cell_type": "code",
   "execution_count": 60,
   "metadata": {
    "ExecuteTime": {
     "end_time": "2020-07-17T21:45:39.130000-04:00",
     "start_time": "2020-07-18T01:45:39.125Z"
    }
   },
   "outputs": [
    {
     "data": {
      "text/plain": [
       "iterative_labor_calc (generic function with 1 method)"
      ]
     },
     "execution_count": 60,
     "metadata": {},
     "output_type": "execute_result"
    }
   ],
   "source": [
    "function iterative_labor_calc(A,O,V,n_iterations)\n",
    "    \n",
    "    L=ones(length(V))\n",
    "    \n",
    "    for i in 1:n_iterations\n",
    "        O1=sum(A.* L ,dims=2) + V \n",
    "        L=O1./O \n",
    "    end\n",
    "    \n",
    "    return O1\n",
    "    end "
   ]
  },
  {
   "cell_type": "code",
   "execution_count": 61,
   "metadata": {
    "ExecuteTime": {
     "end_time": "2020-07-17T21:45:40.628000-04:00",
     "start_time": "2020-07-18T01:45:40.615Z"
    }
   },
   "outputs": [
    {
     "ename": "MethodError",
     "evalue": "MethodError: objects of type Array{Float64,2} are not callable\nUse square brackets [] for indexing an Array.",
     "output_type": "error",
     "traceback": [
      "MethodError: objects of type Array{Float64,2} are not callable\nUse square brackets [] for indexing an Array.",
      "",
      "Stacktrace:",
      " [1] mapreduce_first(::Array{Float64,2}, ::Function, ::Int64) at ./reduce.jl:384",
      " [2] mapreduce(::Array{Float64,2}, ::Function, ::Int64) at ./reduce.jl:411",
      " [3] sum(::Array{Float64,2}, ::Int64) at ./reduce.jl:486",
      " [4] iterative_labor_calc(::Array{Float64,2}, ::Array{Float64,1}, ::Array{Float64,1}, ::Int64) at ./In[60]:6",
      " [5] top-level scope at In[61]:1"
     ]
    }
   ],
   "source": [
    "iterative_labor_calc(A,O,V,100000)"
   ]
  },
  {
   "cell_type": "code",
   "execution_count": 59,
   "metadata": {
    "ExecuteTime": {
     "end_time": "2020-07-17T21:45:26.593000-04:00",
     "start_time": "2020-07-18T01:45:25.906Z"
    }
   },
   "outputs": [
    {
     "data": {
      "text/plain": [
       "30-element Array{Float64,1}:\n",
       " 1688.285787210091\n",
       " 7704.538919466979\n",
       " 7041.8222281432445\n",
       " 2018.232816031429\n",
       " 4744.3953739977915\n",
       " 5361.097882889742\n",
       " 5100.758813144044\n",
       " 5902.668109104523\n",
       " 4773.52480607347\n",
       "   36.629693136196465\n",
       " 6871.643085853969\n",
       " 7312.248595922497\n",
       " 3155.8080310824253\n",
       "    ⋮\n",
       " 3516.688234465191\n",
       " 9951.888245704213\n",
       "  206.88364567366557\n",
       " 2816.1714339246437\n",
       " 2842.1753544652706\n",
       " 6573.870315747412\n",
       " 2309.668480930598\n",
       " 3852.8695280057777\n",
       " 2172.2544523988695\n",
       " 7567.808223026462\n",
       "  256.93672530957554\n",
       " 4517.4066435383575"
      ]
     },
     "execution_count": 59,
     "metadata": {},
     "output_type": "execute_result"
    }
   ],
   "source": [
    "function generate_diag_dom_and_positive_def_matrix(size)\n",
    "    A = rand(Float64,(size,size))\n",
    "    \n",
    "    for i in CartesianIndices(A)  \n",
    "        if i[1] == i[2]\n",
    "        row=i[1]\n",
    "        column=i[2]\n",
    "        A[row,column]= A[row,column] * 100000\n",
    "        end\n",
    "    end \n",
    "    \n",
    "    b=rand(Float64,size) * 10000\n",
    "    x=rand(Float64,size)\n",
    "    \n",
    "    return (A,b,x)\n",
    "    end \n",
    "    \n",
    "A,O,V=generate_diag_dom_and_positive_def_matrix(30)"
   ]
  },
  {
   "cell_type": "code",
   "execution_count": 117,
   "metadata": {
    "ExecuteTime": {
     "end_time": "2020-07-17T22:00:35.807000-04:00",
     "start_time": "2020-07-18T02:00:35.788Z"
    }
   },
   "outputs": [
    {
     "data": {
      "text/plain": [
       "30×1 Array{Float64,2}:\n",
       "      0.8548678922653168\n",
       "      2.2827719378471486e7\n",
       "      1.263322480536826e10\n",
       "      5.457506869961228e17\n",
       "      2.090072049809584e14\n",
       "      6.50561339491045e15\n",
       "      1.9322137558322044e16\n",
       "      1.1682352343668545e15\n",
       "      5.055755911015379e15\n",
       "      3.367188017699872e32\n",
       "      9.573760587044634e11\n",
       "      1.5205392263340372e8\n",
       "      2.3406151254283062e13\n",
       "      ⋮\n",
       "      7.643894873741592e12\n",
       "      8.604665438620256e10\n",
       "      1.1094495079301887e29\n",
       "      1.7531679441727094e18\n",
       "      7.093141037996144e8\n",
       "      2.1865609171185425e11\n",
       "      1.2319319179336595e19\n",
       "      4.137462441022844e11\n",
       "      2.144256371933317e18\n",
       "      5.413506357006485e12\n",
       "      6.6436834697108914e19\n",
       " 342571.96653079503"
      ]
     },
     "execution_count": 117,
     "metadata": {},
     "output_type": "execute_result"
    }
   ],
   "source": [
    "L=ones(length(V))\n",
    "\n",
    "for i in 1:10\n",
    "    O1=sum(A.* L ,dims=2) + V \n",
    "    L=O1./O \n",
    "end\n",
    "\n",
    "\n",
    "O1"
   ]
  },
  {
   "cell_type": "code",
   "execution_count": null,
   "metadata": {},
   "outputs": [],
   "source": []
  },
  {
   "cell_type": "code",
   "execution_count": null,
   "metadata": {
    "ExecuteTime": {
     "end_time": "2020-07-05T17:09:12.065000-04:00",
     "start_time": "2020-07-05T21:08:57.789Z"
    }
   },
   "outputs": [],
   "source": [
    "function solve(A,b)\n",
    "   \n",
    "    x=inv(A) * b \n",
    "    \n",
    "end"
   ]
  },
  {
   "cell_type": "code",
   "execution_count": null,
   "metadata": {
    "ExecuteTime": {
     "end_time": "2020-07-05T17:10:04.949000-04:00",
     "start_time": "2020-07-05T21:08:57.795Z"
    }
   },
   "outputs": [],
   "source": [
    "solve(A,b)"
   ]
  },
  {
   "cell_type": "code",
   "execution_count": null,
   "metadata": {
    "ExecuteTime": {
     "end_time": "2020-07-05T17:10:08.965000-04:00",
     "start_time": "2020-07-05T21:08:57.797Z"
    }
   },
   "outputs": [],
   "source": [
    "jacobi(A,b,x,3)"
   ]
  },
  {
   "cell_type": "code",
   "execution_count": null,
   "metadata": {},
   "outputs": [],
   "source": [
    "function ILC(A,O,V,n)\n",
    "    \n",
    "    n=O.shape\n",
    "    ## initialize array of ones \n",
    "    L=ones(n)\n",
    "    \n",
    "    #L=L[:,np.newaxis]\n",
    "    \n",
    "    for i in range(n_iterations): \n",
    "            O1= np.sum(A * L,axis=0) + V ## multiply vector L row by row with A, then sum going down \n",
    "            L= O1/O ## divide the result of operation above with O \n",
    "    \n",
    "    return O1"
   ]
  },
  {
   "cell_type": "code",
   "execution_count": null,
   "metadata": {
    "ExecuteTime": {
     "end_time": "2020-07-05T17:10:09.159000-04:00",
     "start_time": "2020-07-05T21:08:57.799Z"
    }
   },
   "outputs": [],
   "source": [
    "function jacobi(A,b,x,n)\n",
    "     \"\"\" jacobi iteration solving Ax=b\n",
    "    \n",
    "    Parameters\n",
    "    ..........\n",
    "    \n",
    "    A: \n",
    "      ::Float64\n",
    "      a 2-dimensional mxm numpy array (matrix) , diagonally-dominant\n",
    "    \n",
    "    B:\n",
    "      ::Float64\n",
    "      a 1-dimensional mx1 numpy array ,shape (m,) and not (m,1)\n",
    "      \n",
    "    num_iterations:\n",
    "      an integral scalar which indicates number of iterations to run\n",
    "      \n",
    "    Returns\n",
    "    ..........\n",
    "    x:\n",
    "     ::Float64\n",
    "     a 1-dimensional mx1 numpy array ,shape (m,) and not (m,1)\n",
    "\n",
    "    \"\"\"\n",
    "    \n",
    "    diag=Diagonal(A)\n",
    "    upper=UpperTriangular(A)\n",
    "    lower=LowerTriangular(A)\n",
    "    for i in eachindex(upper)\n",
    "        if i[1] == i[2]\n",
    "            row=i[1]\n",
    "            column=i[2]\n",
    "            upper[row,column]=0\n",
    "        end\n",
    "    end \n",
    "\n",
    "    for i in eachindex(lower)\n",
    "        if i[1] == i[2]\n",
    "            row=i[1]\n",
    "            column=i[2]\n",
    "            lower[row,column]=0\n",
    "        end\n",
    "    end\n",
    "    \n",
    "    inverse=[i for i in inv(diag)]\n",
    "    LU=lower+upper\n",
    "    for i in 1:n\n",
    "        x= inverse * (b - LU * x)\n",
    "    end\n",
    "    \n",
    "    return x\n",
    "    \n",
    "    end \n",
    "## 41.5s, for jacobi in python\n",
    "## 5.71s,, for jacobi in julia"
   ]
  },
  {
   "cell_type": "code",
   "execution_count": null,
   "metadata": {
    "ExecuteTime": {
     "end_time": "2020-07-05T17:10:10.415000-04:00",
     "start_time": "2020-07-05T21:08:57.801Z"
    }
   },
   "outputs": [],
   "source": [
    "A,b,x=generate_diag_dom_and_positive_def_matrix(10000)"
   ]
  },
  {
   "cell_type": "code",
   "execution_count": null,
   "metadata": {
    "ExecuteTime": {
     "end_time": "2020-07-05T17:10:10.599000-04:00",
     "start_time": "2020-07-05T21:08:57.802Z"
    }
   },
   "outputs": [],
   "source": [
    "function gauss_seidel(A,b,x,n)\n",
    "\n",
    "    L=LowerTriangular(A)\n",
    "    U=A-L\n",
    "    inverse=-inv(L)\n",
    "    T=inverse * U\n",
    "    C= inverse * b\n",
    "\n",
    "    for i in 1:n\n",
    "        x=T * x + C\n",
    "    end\n",
    "\n",
    "    return x\n",
    "    \n",
    "    end "
   ]
  },
  {
   "cell_type": "code",
   "execution_count": null,
   "metadata": {
    "ExecuteTime": {
     "end_time": "2020-07-05T17:10:59.049000-04:00",
     "start_time": "2020-07-05T21:08:57.803Z"
    }
   },
   "outputs": [],
   "source": [
    "gauss_seidel(A,b,x,3)"
   ]
  },
  {
   "cell_type": "code",
   "execution_count": 1,
   "metadata": {
    "ExecuteTime": {
     "end_time": "2020-07-17T21:02:54.551000-04:00",
     "start_time": "2020-07-18T01:02:51.977Z"
    }
   },
   "outputs": [
    {
     "ename": "LoadError",
     "evalue": "syntax: space required before \"?\" operator",
     "output_type": "error",
     "traceback": [
      "syntax: space required before \"?\" operator",
      ""
     ]
    }
   ],
   "source": []
  }
 ],
 "metadata": {
  "kernelspec": {
   "display_name": "Julia 1.4.1",
   "language": "julia",
   "name": "julia-1.4"
  },
  "language_info": {
   "file_extension": ".jl",
   "mimetype": "application/julia",
   "name": "julia",
   "version": "1.4.1"
  },
  "toc": {
   "base_numbering": 1,
   "nav_menu": {},
   "number_sections": true,
   "sideBar": true,
   "skip_h1_title": false,
   "title_cell": "Table of Contents",
   "title_sidebar": "Contents",
   "toc_cell": false,
   "toc_position": {},
   "toc_section_display": true,
   "toc_window_display": false
  }
 },
 "nbformat": 4,
 "nbformat_minor": 4
}
