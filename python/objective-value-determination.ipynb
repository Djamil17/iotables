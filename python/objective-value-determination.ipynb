{
 "cells": [
  {
   "cell_type": "markdown",
   "metadata": {},
   "source": [
    "## Objective-Value-Determination : Examples"
   ]
  },
  {
   "cell_type": "markdown",
   "metadata": {},
   "source": [
    "*I discovered that a whole range of problems of the most diverse character relating to the scientific organization of production (questions of the optimum distribution of the work of machines and mechanisms, the minimization of scrap, the best utilization of raw materials and local materials, fuel, transportation, and so on) lead to the formulation of a single group of mathematical problems (extremal problems). These problems are not directly comparable to problems considered in mathematical analysis. It is more correct to say that they are formally similar, and even turn out to be formally very simple, but the process of solving them with which one is faced [i.e., by mathematical analysis] is practically completely unusable, since it requires the solution of tens of thousands or even millions of systems of equations for completion.*\n",
    "\n",
    "*I have succeeded in finding a comparatively simple general method of solving this group of problems which is applicable to all the problems I have mentioned, and is sufficiently simple and effective for their solution to be made completely achievable under practical conditions.*\""
   ]
  },
  {
   "cell_type": "markdown",
   "metadata": {
    "ExecuteTime": {
     "end_time": "2020-07-06T19:37:10.734775Z",
     "start_time": "2020-07-06T19:37:10.724210Z"
    }
   },
   "source": [
    "### Kantorovich's First Example"
   ]
  },
  {
   "cell_type": "markdown",
   "metadata": {},
   "source": [
    "| Type of machine         | # machines | output per machine |      | Total output |     |\n",
    "|-------------------------|------------|--------------------|------|--------------|-----|\n",
    "|                         |            |                    |      |              |     |\n",
    "|                         |            | As                 | Bs   | As           | Bs  |\n",
    "| Milling machines        | 3          | 10                 | 20   | 30           | 60  |\n",
    "| Turret lathes           | 3          | 20                 | 30   | 60           | 90  |\n",
    "| Automatic turret lathes | 1          | 30                 | 80   | 30           | 80  |\n",
    "|                         |            |                    |      |              |     |\n",
    "| Max total               |            |                    |      | 120          | 230 |"
   ]
  },
  {
   "cell_type": "markdown",
   "metadata": {},
   "source": [
    "A;\n",
    "\n",
    "m1<=3;\n",
    "\n",
    "m2<=3;\n",
    "\n",
    "m3<=1;\n",
    "\n",
    "A-B=0;\n",
    "\n",
    "m1-0.1 x1a - 0.05 x1b=0;\n",
    "\n",
    "m2-0.05 x2a - 0.033333 x2b=0;\n",
    "\n",
    "m3- 0.033333 x3a - 0.0125 x3b=0;\n",
    "\n",
    "x1a+x2a+x3a - A=0;\n",
    "\n",
    "x1b+x2b+x3b -B =0;\n",
    "\n",
    "int A;\n"
   ]
  },
  {
   "cell_type": "markdown",
   "metadata": {},
   "source": [
    "| variable | meaning                                    |   |   |   |   |\n",
    "|----------|--------------------------------------------|---|---|---|---|\n",
    "| A        | number of units of A produced              |   |   |   |   |\n",
    "| B        | number of units of B produced              |   |   |   |   |\n",
    "| m1       | number of milling machines used            |   |   |   |   |\n",
    "| m2       | number of turret lathes used               |   |   |   |   |\n",
    "| m3       | number of automatic turret lathes used     |   |   |   |   |\n",
    "| xij      | number of units of j produced on machine i |   |   |   |   |\n",
    "|          |                                            |   |   |   |   |"
   ]
  },
  {
   "cell_type": "code",
   "execution_count": null,
   "metadata": {},
   "outputs": [],
   "source": []
  },
  {
   "cell_type": "code",
   "execution_count": 23,
   "metadata": {
    "ExecuteTime": {
     "end_time": "2020-07-06T20:13:00.360777Z",
     "start_time": "2020-07-06T20:13:00.357572Z"
    }
   },
   "outputs": [],
   "source": [
    "import pulp"
   ]
  },
  {
   "cell_type": "code",
   "execution_count": 6,
   "metadata": {
    "ExecuteTime": {
     "end_time": "2020-07-06T19:59:53.933879Z",
     "start_time": "2020-07-06T19:59:53.927896Z"
    }
   },
   "outputs": [],
   "source": [
    "objective_function=['A==B']\n",
    "output_type=['A','B']\n",
    "machines = ['Milling machines', 'Turret lathes','Automatic turret lathes']\n",
    "amount_of_machines = [3, 3,1]\n",
    "output_capacity_mm= [10,20]\n",
    "output_capacity_tl= [20, 30]\n",
    "output_capacity_atl= [30,80]"
   ]
  },
  {
   "cell_type": "code",
   "execution_count": 67,
   "metadata": {
    "ExecuteTime": {
     "end_time": "2020-07-06T20:23:04.708494Z",
     "start_time": "2020-07-06T20:23:04.703574Z"
    }
   },
   "outputs": [],
   "source": [
    "kantorovich_problem = pulp.LpProblem(\"The_Kantorovich_Problem\",pulp.LpMaximize)\n",
    "A = pulp.LpVariable('A' )\n",
    "B = pulp.LpVariable('B')"
   ]
  },
  {
   "cell_type": "code",
   "execution_count": 68,
   "metadata": {
    "ExecuteTime": {
     "end_time": "2020-07-06T20:23:05.536933Z",
     "start_time": "2020-07-06T20:23:05.532343Z"
    }
   },
   "outputs": [],
   "source": [
    "m1 = pulp.LpVariable('m1')\n",
    "m2 = pulp.LpVariable('m2')\n",
    "m3 = pulp.LpVariable('m3')\n",
    "\n",
    "x1a = pulp.LpVariable('x1a')\n",
    "x1b = pulp.LpVariable('x1b')\n",
    "\n",
    "x2a = pulp.LpVariable('x2a')\n",
    "x2b = pulp.LpVariable('x2b')\n",
    "\n",
    "x3a = pulp.LpVariable('x3a')\n",
    "x3b = pulp.LpVariable('x3b')"
   ]
  },
  {
   "cell_type": "code",
   "execution_count": 70,
   "metadata": {
    "ExecuteTime": {
     "end_time": "2020-07-06T20:23:10.178164Z",
     "start_time": "2020-07-06T20:23:10.168694Z"
    }
   },
   "outputs": [],
   "source": [
    "# Objective function\n",
    "kantorovich_problem += A - B ,'Z'\n",
    "\n",
    "kantorovich_problem += x1a==10\n",
    "kantorovich_problem += x1b==20\n",
    "\n",
    "kantorovich_problem += x2a==10\n",
    "kantorovich_problem += x2b==10\n",
    "\n",
    "kantorovich_problem+= x3a==10\n",
    "kantorovich_problem+= x3b==10\n",
    "\n",
    "\n",
    "# Constraints\n",
    "kantorovich_problem += m1-0.1 * x1a-0.05*x1b==0\n",
    "kantorovich_problem += m2-0.05 * x2a - 0.033333* x2b==0;\n",
    "kantorovich_problem += m3- 0.033333 * x3a - 0.0125 * x3b==0;\n"
   ]
  },
  {
   "cell_type": "code",
   "execution_count": 71,
   "metadata": {
    "ExecuteTime": {
     "end_time": "2020-07-06T20:23:11.788964Z",
     "start_time": "2020-07-06T20:23:11.780602Z"
    }
   },
   "outputs": [
    {
     "data": {
      "text/plain": [
       "The_Kantorovich_Problem:\n",
       "MAXIMIZE\n",
       "1*A + -1*B + 0\n",
       "SUBJECT TO\n",
       "_C1: x1a = 10\n",
       "\n",
       "_C2: x1b = 20\n",
       "\n",
       "_C3: x2a = 10\n",
       "\n",
       "_C4: x2b = 10\n",
       "\n",
       "_C5: x3a = 10\n",
       "\n",
       "_C6: x3b = 10\n",
       "\n",
       "_C7: m1 - 0.1 x1a - 0.05 x1b = 0\n",
       "\n",
       "_C8: m2 - 0.05 x2a - 0.033333 x2b = 0\n",
       "\n",
       "_C9: m3 - 0.033333 x3a - 0.0125 x3b = 0\n",
       "\n",
       "VARIABLES\n",
       "A free Continuous\n",
       "B free Continuous\n",
       "m1 free Continuous\n",
       "m2 free Continuous\n",
       "m3 free Continuous\n",
       "x1a free Continuous\n",
       "x1b free Continuous\n",
       "x2a free Continuous\n",
       "x2b free Continuous\n",
       "x3a free Continuous\n",
       "x3b free Continuous"
      ]
     },
     "execution_count": 71,
     "metadata": {},
     "output_type": "execute_result"
    }
   ],
   "source": [
    "kantorovich_problem\n"
   ]
  },
  {
   "cell_type": "code",
   "execution_count": 72,
   "metadata": {
    "ExecuteTime": {
     "end_time": "2020-07-06T20:23:14.960154Z",
     "start_time": "2020-07-06T20:23:14.846591Z"
    }
   },
   "outputs": [
    {
     "data": {
      "text/plain": [
       "-2"
      ]
     },
     "execution_count": 72,
     "metadata": {},
     "output_type": "execute_result"
    }
   ],
   "source": [
    "kantorovich_problem.solve()"
   ]
  },
  {
   "cell_type": "code",
   "execution_count": 73,
   "metadata": {
    "ExecuteTime": {
     "end_time": "2020-07-06T20:23:16.068252Z",
     "start_time": "2020-07-06T20:23:16.061755Z"
    }
   },
   "outputs": [
    {
     "name": "stdout",
     "output_type": "stream",
     "text": [
      "A = 0.0\n",
      "B = 0.0\n",
      "m1 = 2.0\n",
      "m2 = 0.83333\n",
      "m3 = 0.45833\n",
      "x1a = 10.0\n",
      "x1b = 20.0\n",
      "x2a = 10.0\n",
      "x2b = 10.0\n",
      "x3a = 10.0\n",
      "x3b = 10.0\n"
     ]
    }
   ],
   "source": [
    "for variable in kantorovich_problem.variables():\n",
    "    print( \"{} = {}\".format(variable.name, variable.varValue))\n",
    "    \n"
   ]
  }
 ],
 "metadata": {
  "kernelspec": {
   "display_name": "Python 3",
   "language": "python",
   "name": "python3"
  },
  "language_info": {
   "codemirror_mode": {
    "name": "ipython",
    "version": 3
   },
   "file_extension": ".py",
   "mimetype": "text/x-python",
   "name": "python",
   "nbconvert_exporter": "python",
   "pygments_lexer": "ipython3",
   "version": "3.7.1"
  }
 },
 "nbformat": 4,
 "nbformat_minor": 4
}
