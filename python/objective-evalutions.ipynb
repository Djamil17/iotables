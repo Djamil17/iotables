{
 "cells": [
  {
   "cell_type": "markdown",
   "metadata": {},
   "source": [
    "## Objective-Value-Determination : Examples"
   ]
  },
  {
   "cell_type": "markdown",
   "metadata": {},
   "source": [
    "*I discovered that a whole range of problems of the most diverse character relating to the scientific organization of production (questions of the optimum distribution of the work of machines and mechanisms, the minimization of scrap, the best utilization of raw materials and local materials, fuel, transportation, and so on) lead to the formulation of a single group of mathematical problems (extremal problems). These problems are not directly comparable to problems considered in mathematical analysis. It is more correct to say that they are formally similar, and even turn out to be formally very simple, but the process of solving them with which one is faced [i.e., by mathematical analysis] is practically completely unusable, since it requires the solution of tens of thousands or even millions of systems of equations for completion.*\n",
    "\n",
    "*I have succeeded in finding a comparatively simple general method of solving this group of problems which is applicable to all the problems I have mentioned, and is sufficiently simple and effective for their solution to be made completely achievable under practical conditions.*\""
   ]
  },
  {
   "cell_type": "markdown",
   "metadata": {
    "ExecuteTime": {
     "end_time": "2020-07-06T19:37:10.734775Z",
     "start_time": "2020-07-06T19:37:10.724210Z"
    }
   },
   "source": [
    "### Kantorovich's First Example"
   ]
  },
  {
   "cell_type": "markdown",
   "metadata": {},
   "source": [
    "| Type of machine         | # machines | output per machine |      | Total output |     |\n",
    "|-------------------------|------------|--------------------|------|--------------|-----|\n",
    "|                         |            |                    |      |              |     |\n",
    "|                         |            | As                 | Bs   | As           | Bs  |\n",
    "| Milling machines        | 3          | 10                 | 20   | 30           | 60  |\n",
    "| Turret lathes           | 3          | 20                 | 30   | 60           | 90  |\n",
    "| Automatic turret lathes | 1          | 30                 | 80   | 30           | 80  |\n",
    "|                         |            |                    |      |              |     |\n",
    "| Max total               |            |                    |      | 120          | 230 |"
   ]
  },
  {
   "cell_type": "markdown",
   "metadata": {},
   "source": [
    "A;\n",
    "\n",
    "m1<=3;\n",
    "\n",
    "m2<=3;\n",
    "\n",
    "m3<=1;\n",
    "\n",
    "A-B=0;\n",
    "\n",
    "m1-0.1 x1a - 0.05 x1b=0;\n",
    "\n",
    "m2-0.05 x2a - 0.033333 x2b=0;\n",
    "\n",
    "m3- 0.033333 x3a - 0.0125 x3b=0;\n",
    "\n",
    "x1a+x2a+x3a - A=0;\n",
    "\n",
    "x1b+x2b+x3b -B =0;\n",
    "\n",
    "int A;\n"
   ]
  },
  {
   "cell_type": "markdown",
   "metadata": {},
   "source": [
    "| variable | meaning                                    |   |   |   |   |\n",
    "|----------|--------------------------------------------|---|---|---|---|\n",
    "| A        | number of units of A produced              |   |   |   |   |\n",
    "| B        | number of units of B produced              |   |   |   |   |\n",
    "| m1       | number of milling machines used            |   |   |   |   |\n",
    "| m2       | number of turret lathes used               |   |   |   |   |\n",
    "| m3       | number of automatic turret lathes used     |   |   |   |   |\n",
    "| xij      | number of units of j produced on machine i |   |   |   |   |\n",
    "|          |                                            |   |   |   |   |"
   ]
  },
  {
   "cell_type": "code",
   "execution_count": 151,
   "metadata": {
    "ExecuteTime": {
     "end_time": "2020-07-12T18:37:21.990360Z",
     "start_time": "2020-07-12T18:37:21.830119Z"
    }
   },
   "outputs": [],
   "source": [
    "import pulp"
   ]
  },
  {
   "cell_type": "code",
   "execution_count": 256,
   "metadata": {
    "ExecuteTime": {
     "end_time": "2020-07-10T22:15:20.343131Z",
     "start_time": "2020-07-10T22:15:20.338920Z"
    }
   },
   "outputs": [],
   "source": [
    "kantorovich_problem = pulp.LpProblem(\"The_Kantorovich_Problem\",pulp.LpMaximize)\n",
    "A = pulp.LpVariable('A',lowBound=0)\n",
    "B = pulp.LpVariable('B',lowBound=0)"
   ]
  },
  {
   "cell_type": "code",
   "execution_count": 257,
   "metadata": {
    "ExecuteTime": {
     "end_time": "2020-07-10T22:15:21.086975Z",
     "start_time": "2020-07-10T22:15:21.079362Z"
    }
   },
   "outputs": [],
   "source": [
    "m1 = pulp.LpVariable('m1',lowBound=0)\n",
    "m2 = pulp.LpVariable('m2',lowBound=0)\n",
    "m3 = pulp.LpVariable('m3',lowBound=0)\n",
    "\n",
    "x1a = pulp.LpVariable('x1a',lowBound=0)\n",
    "x1b = pulp.LpVariable('x1b',lowBound=0)\n",
    "\n",
    "x2a = pulp.LpVariable('x2a',lowBound=0)\n",
    "x2b = pulp.LpVariable('x2b',lowBound=0)\n",
    "\n",
    "x3a = pulp.LpVariable('x3a',lowBound=0)\n",
    "x3b = pulp.LpVariable('x3b',lowBound=0)"
   ]
  },
  {
   "cell_type": "code",
   "execution_count": 258,
   "metadata": {
    "ExecuteTime": {
     "end_time": "2020-07-10T22:15:22.444118Z",
     "start_time": "2020-07-10T22:15:22.435426Z"
    }
   },
   "outputs": [],
   "source": [
    "# Objective function\n",
    "kantorovich_problem += pulp.lpSum(A)\n",
    "\n",
    "# Constraints\n",
    "kantorovich_problem += m1 <=3\n",
    "kantorovich_problem += m2 <=3\n",
    "kantorovich_problem += m3 <=1\n",
    "\n",
    "kantorovich_problem += A - B ==0\n",
    "\n",
    "# kantorovich_problem += x1a==10\n",
    "# kantorovich_problem += x1b==20\n",
    "\n",
    "# kantorovich_problem += x2a==20\n",
    "# kantorovich_problem += x2b==30\n",
    "\n",
    "# kantorovich_problem+= x3a==30\n",
    "# kantorovich_problem+= x3b==80\n",
    "\n",
    "kantorovich_problem += m1-0.1 * x1a-0.05*x1b==0\n",
    "kantorovich_problem += m2-0.05 * x2a - 0.033333* x2b==0;\n",
    "kantorovich_problem += m3- 0.033333 * x3a - 0.0125 * x3b==0;\n",
    "kantorovich_problem += x1a+x2a+x3a -A==0\n",
    "kantorovich_problem += x1b+x2b+x3b -B==0"
   ]
  },
  {
   "cell_type": "code",
   "execution_count": 259,
   "metadata": {
    "ExecuteTime": {
     "end_time": "2020-07-10T22:15:23.993564Z",
     "start_time": "2020-07-10T22:15:23.987016Z"
    }
   },
   "outputs": [
    {
     "data": {
      "text/plain": [
       "The_Kantorovich_Problem:\n",
       "MAXIMIZE\n",
       "1*A + 0\n",
       "SUBJECT TO\n",
       "_C1: m1 <= 3\n",
       "\n",
       "_C2: m2 <= 3\n",
       "\n",
       "_C3: m3 <= 1\n",
       "\n",
       "_C4: A - B = 0\n",
       "\n",
       "_C5: m1 - 0.1 x1a - 0.05 x1b = 0\n",
       "\n",
       "_C6: m2 - 0.05 x2a - 0.033333 x2b = 0\n",
       "\n",
       "_C7: m3 - 0.033333 x3a - 0.0125 x3b = 0\n",
       "\n",
       "_C8: - A + x1a + x2a + x3a = 0\n",
       "\n",
       "_C9: - B + x1b + x2b + x3b = 0\n",
       "\n",
       "VARIABLES\n",
       "A Continuous\n",
       "B Continuous\n",
       "m1 Continuous\n",
       "m2 Continuous\n",
       "m3 Continuous\n",
       "x1a Continuous\n",
       "x1b Continuous\n",
       "x2a Continuous\n",
       "x2b Continuous\n",
       "x3a Continuous\n",
       "x3b Continuous"
      ]
     },
     "execution_count": 259,
     "metadata": {},
     "output_type": "execute_result"
    }
   ],
   "source": [
    "kantorovich_problem"
   ]
  },
  {
   "cell_type": "code",
   "execution_count": 260,
   "metadata": {
    "ExecuteTime": {
     "end_time": "2020-07-10T22:15:27.113526Z",
     "start_time": "2020-07-10T22:15:27.076575Z"
    }
   },
   "outputs": [
    {
     "data": {
      "text/plain": [
       "1"
      ]
     },
     "execution_count": 260,
     "metadata": {},
     "output_type": "execute_result"
    }
   ],
   "source": [
    "kantorovich_problem.solve()"
   ]
  },
  {
   "cell_type": "code",
   "execution_count": 261,
   "metadata": {
    "ExecuteTime": {
     "end_time": "2020-07-10T22:15:28.157845Z",
     "start_time": "2020-07-10T22:15:28.151251Z"
    }
   },
   "outputs": [
    {
     "data": {
      "text/plain": [
       "'Optimal'"
      ]
     },
     "execution_count": 261,
     "metadata": {},
     "output_type": "execute_result"
    }
   ],
   "source": [
    "pulp.LpStatus[kantorovich_problem.status]"
   ]
  },
  {
   "cell_type": "code",
   "execution_count": 262,
   "metadata": {
    "ExecuteTime": {
     "end_time": "2020-07-10T22:15:29.730075Z",
     "start_time": "2020-07-10T22:15:29.722619Z"
    }
   },
   "outputs": [
    {
     "name": "stdout",
     "output_type": "stream",
     "text": [
      "A = 86.666667\n",
      "B = 86.666667\n",
      "m1 = 3.0\n",
      "m2 = 3.0\n",
      "m3 = 1.0\n",
      "x1a = 26.666667\n",
      "x1b = 6.6666667\n",
      "x2a = 60.0\n",
      "x2b = 0.0\n",
      "x3a = 0.0\n",
      "x3b = 80.0\n"
     ]
    }
   ],
   "source": [
    "for variable in kantorovich_problem.variables():\n",
    "    print (\"{} = {}\".format(variable.name, variable.varValue))"
   ]
  },
  {
   "cell_type": "code",
   "execution_count": 161,
   "metadata": {
    "ExecuteTime": {
     "end_time": "2020-07-12T18:41:29.166340Z",
     "start_time": "2020-07-12T18:41:29.136049Z"
    }
   },
   "outputs": [
    {
     "data": {
      "text/html": [
       "<div>\n",
       "<style scoped>\n",
       "    .dataframe tbody tr th:only-of-type {\n",
       "        vertical-align: middle;\n",
       "    }\n",
       "\n",
       "    .dataframe tbody tr th {\n",
       "        vertical-align: top;\n",
       "    }\n",
       "\n",
       "    .dataframe thead th {\n",
       "        text-align: right;\n",
       "    }\n",
       "</style>\n",
       "<table border=\"1\" class=\"dataframe\">\n",
       "  <thead>\n",
       "    <tr style=\"text-align: right;\">\n",
       "      <th></th>\n",
       "      <th>Type of machine</th>\n",
       "      <th>number machines</th>\n",
       "      <th>O0_x</th>\n",
       "      <th>O1_x</th>\n",
       "      <th>O2_x</th>\n",
       "      <th>O3_x</th>\n",
       "      <th>O0_y</th>\n",
       "      <th>O1_y</th>\n",
       "      <th>O2_y</th>\n",
       "      <th>O3_y</th>\n",
       "    </tr>\n",
       "  </thead>\n",
       "  <tbody>\n",
       "    <tr>\n",
       "      <th>0</th>\n",
       "      <td>m0</td>\n",
       "      <td>8</td>\n",
       "      <td>111</td>\n",
       "      <td>137</td>\n",
       "      <td>174</td>\n",
       "      <td>109</td>\n",
       "      <td>888</td>\n",
       "      <td>1096</td>\n",
       "      <td>1392</td>\n",
       "      <td>872</td>\n",
       "    </tr>\n",
       "    <tr>\n",
       "      <th>1</th>\n",
       "      <td>m1</td>\n",
       "      <td>9</td>\n",
       "      <td>105</td>\n",
       "      <td>136</td>\n",
       "      <td>161</td>\n",
       "      <td>176</td>\n",
       "      <td>945</td>\n",
       "      <td>1224</td>\n",
       "      <td>1449</td>\n",
       "      <td>1584</td>\n",
       "    </tr>\n",
       "    <tr>\n",
       "      <th>2</th>\n",
       "      <td>m2</td>\n",
       "      <td>13</td>\n",
       "      <td>166</td>\n",
       "      <td>116</td>\n",
       "      <td>188</td>\n",
       "      <td>122</td>\n",
       "      <td>2158</td>\n",
       "      <td>1508</td>\n",
       "      <td>2444</td>\n",
       "      <td>1586</td>\n",
       "    </tr>\n",
       "  </tbody>\n",
       "</table>\n",
       "</div>"
      ],
      "text/plain": [
       "  Type of machine  number machines  O0_x  O1_x  O2_x  O3_x  O0_y  O1_y  O2_y  \\\n",
       "0              m0                8   111   137   174   109   888  1096  1392   \n",
       "1              m1                9   105   136   161   176   945  1224  1449   \n",
       "2              m2               13   166   116   188   122  2158  1508  2444   \n",
       "\n",
       "   O3_y  \n",
       "0   872  \n",
       "1  1584  \n",
       "2  1586  "
      ]
     },
     "execution_count": 161,
     "metadata": {},
     "output_type": "execute_result"
    }
   ],
   "source": [
    "import pandas as pd \n",
    "import numpy as np\n",
    "\n",
    "rng=np.random.RandomState(1917)\n",
    "\n",
    "def generate_dictionary_data(n_input,n_output):\n",
    "    data= {'Type of machine':['m{}'.format(i) for i in range(n_input)],\n",
    "            'number machines':rng.randint(1,20,size=n_input)}\n",
    "    \n",
    "    for j in range(n_output):\n",
    "        name='O{}'.format(j)\n",
    "        data[name]=rng.randint(100,200,size=n_input)\n",
    "    \n",
    "        \n",
    "    return data\n",
    "\n",
    "data=generate_dictionary_data(3,4)\n",
    "\n",
    "df=pd.DataFrame(data)\n",
    "\n",
    "n_machines=df['number machines']\n",
    "n_machines=n_machines[:,np.newaxis]\n",
    "output_matrix=df.loc[:,'O0':]\n",
    "total=n_machines * output_matrix\n",
    "pd.merge(df,total,how='inner',left_on=df.index,right_on=df.index).drop('key_0',axis=1)"
   ]
  },
  {
   "cell_type": "code",
   "execution_count": 193,
   "metadata": {
    "ExecuteTime": {
     "end_time": "2020-07-12T18:50:09.289763Z",
     "start_time": "2020-07-12T18:50:09.282767Z"
    }
   },
   "outputs": [],
   "source": [
    "def write_problem(name,data):\n",
    "    \n",
    "    ## initialzie problem\n",
    "    problem = pulp.LpProblem(\"{} Problem\".format(name),pulp.LpMaximize)\n",
    "    \n",
    "    ## constraints \n",
    "    \n",
    "    ## write equations\n",
    "        \n",
    "    return problem \n"
   ]
  },
  {
   "cell_type": "code",
   "execution_count": 235,
   "metadata": {
    "ExecuteTime": {
     "end_time": "2020-07-12T19:17:00.828200Z",
     "start_time": "2020-07-12T19:17:00.817434Z"
    }
   },
   "outputs": [],
   "source": [
    "pulp.LpVariable.dict?\n"
   ]
  }
 ],
 "metadata": {
  "kernelspec": {
   "display_name": "Python 3",
   "language": "python",
   "name": "python3"
  },
  "language_info": {
   "codemirror_mode": {
    "name": "ipython",
    "version": 3
   },
   "file_extension": ".py",
   "mimetype": "text/x-python",
   "name": "python",
   "nbconvert_exporter": "python",
   "pygments_lexer": "ipython3",
   "version": "3.7.1"
  }
 },
 "nbformat": 4,
 "nbformat_minor": 4
}
