{
 "cells": [
  {
   "cell_type": "markdown",
   "metadata": {},
   "source": [
    "## Objectively Determined Valuations : Kantorovich, Linear Programming, and Socialist Planning"
   ]
  },
  {
   "cell_type": "markdown",
   "metadata": {},
   "source": [
    "*I discovered that a whole range of problems of the most diverse character relating to the scientific organization of production (questions of the optimum distribution of the work of machines and mechanisms, the minimization of scrap, the best utilization of raw materials and local materials, fuel, transportation, and so on) lead to the formulation of a single group of mathematical problems (extremal problems). These problems are not directly comparable to problems considered in mathematical analysis. It is more correct to say that they are formally similar, and even turn out to be formally very simple, but the process of solving them with which one is faced [i.e., by mathematical analysis] is practically completely unusable, since it requires the solution of tens of thousands or even millions of systems of equations for completion.*\n",
    "\n",
    "*I have succeeded in finding a comparatively simple general method of solving this group of problems which is applicable to all the problems I have mentioned, and is sufficiently simple and effective for their solution to be made completely achievable under practical conditions.*\""
   ]
  },
  {
   "cell_type": "markdown",
   "metadata": {
    "ExecuteTime": {
     "end_time": "2020-07-06T19:37:10.734775Z",
     "start_time": "2020-07-06T19:37:10.724210Z"
    }
   },
   "source": [
    "### Kantorovich's First Example"
   ]
  },
  {
   "cell_type": "markdown",
   "metadata": {},
   "source": [
    "| Type of machine         | # machines | output per machine |      | Total output |     |\n",
    "|-------------------------|------------|--------------------|------|--------------|-----|\n",
    "|                         |            |                    |      |              |     |\n",
    "|                         |            | As                 | Bs   | As           | Bs  |\n",
    "| Milling machines        | 3          | 10                 | 20   | 30           | 60  |\n",
    "| Turret lathes           | 3          | 20                 | 30   | 60           | 90  |\n",
    "| Automatic turret lathes | 1          | 30                 | 80   | 30           | 80  |\n",
    "|                         |            |                    |      |              |     |\n",
    "| Max total               |            |                    |      | 120          | 230 |"
   ]
  },
  {
   "cell_type": "markdown",
   "metadata": {},
   "source": [
    "### Linear Programming "
   ]
  },
  {
   "cell_type": "markdown",
   "metadata": {},
   "source": [
    "| variable | meaning                                    |   |   |   |   |\n",
    "|----------|--------------------------------------------|---|---|---|---|\n",
    "| A        | number of units of A produced              |   |   |   |   |\n",
    "| B        | number of units of B produced              |   |   |   |   |\n",
    "| m1       | number of milling machines used            |   |   |   |   |\n",
    "| m2       | number of turret lathes used               |   |   |   |   |\n",
    "| m3       | number of automatic turret lathes used     |   |   |   |   |\n",
    "| xij      | number of units of j produced on machine i |   |   |   |   |\n",
    "|          |                                            |   |   |   |   |"
   ]
  },
  {
   "cell_type": "markdown",
   "metadata": {},
   "source": [
    "\n",
    "\n",
    "/*\n",
    "\n",
    "lp file version \n",
    "\n",
    "*/\n",
    "\n",
    "A;\n",
    "\n",
    "m1<=3;\n",
    "\n",
    "m2<=3;\n",
    "\n",
    "m3<=1;\n",
    "\n",
    "A-B=0;\n",
    "\n",
    "m1-0.1 x1a - 0.05 x1b=0;\n",
    "\n",
    "m2-0.05 x2a - 0.033333 x2b=0;\n",
    "\n",
    "m3- 0.033333 x3a - 0.0125 x3b=0;\n",
    "\n",
    "x1a+x2a+x3a - A=0;\n",
    "\n",
    "x1b+x2b+x3b -B =0;\n",
    "\n",
    "int A;\n"
   ]
  },
  {
   "cell_type": "code",
   "execution_count": 3,
   "metadata": {
    "ExecuteTime": {
<<<<<<< HEAD
     "end_time": "2020-07-13T02:56:07.841694Z",
     "start_time": "2020-07-13T02:56:07.704268Z"
=======
     "end_time": "2020-07-13T02:13:52.313694Z",
     "start_time": "2020-07-13T02:13:52.187534Z"
>>>>>>> 6bfe6830e49c4c709d7448aa1161f27694bfd06a
    }
   },
   "outputs": [],
   "source": [
    "import pulp"
   ]
  },
  {
   "cell_type": "code",
   "execution_count": 28,
   "metadata": {
    "ExecuteTime": {
     "end_time": "2020-07-10T22:15:20.343131Z",
     "start_time": "2020-07-10T22:15:20.338920Z"
    }
   },
   "outputs": [],
   "source": [
    "kantorovich_problem = pulp.LpProblem(\"The_Kantorovich_Problem\",pulp.LpMaximize)"
   ]
  },
  {
   "cell_type": "code",
   "execution_count": 78,
   "metadata": {
    "ExecuteTime": {
     "end_time": "2020-07-10T22:15:21.086975Z",
     "start_time": "2020-07-10T22:15:21.079362Z"
    }
   },
   "outputs": [
    {
     "data": {
      "text/plain": [
       "0.015625"
      ]
     },
     "execution_count": 78,
     "metadata": {},
     "output_type": "execute_result"
    }
   ],
   "source": [
    "## variable initialization \n",
    "\n",
    "A = pulp.LpVariable('A',lowBound=0)\n",
    "B = pulp.LpVariable('B',lowBound=0)\n",
    "\n",
    "m1 = pulp.LpVariable('m1',lowBound=0)\n",
    "m2 = pulp.LpVariable('m2',lowBound=0)\n",
    "m3 = pulp.LpVariable('m3',lowBound=0)\n",
    "\n",
    "x1a = pulp.LpVariable('x1a',lowBound=0)\n",
    "x1b = pulp.LpVariable('x1b',lowBound=0)\n",
    "\n",
    "x2a = pulp.LpVariable('x2a',lowBound=0)\n",
    "x2b = pulp.LpVariable('x2b',lowBound=0)\n",
    "\n",
    "x3a = pulp.LpVariable('x3a',lowBound=0)\n",
    "x3b = pulp.LpVariable('x3b',lowBound=0)\n",
    "\n",
    "# Objective function\n",
    "kantorovich_problem += pulp.lpSum(A)\n",
    "\n",
    "# Constraints\n",
    "\n",
    "## constraints on inputs/ machines\n",
    "kantorovich_problem += m1 <=3\n",
    "kantorovich_problem += m2 <=3\n",
    "kantorovich_problem += m3 <=1\n",
    "\n",
    "\n",
    "## make sure A=B no more B than A \n",
    "kantorovich_problem += A - B ==0\n",
    "\n",
    "## machines minus capacity to produce\n",
    "kantorovich_problem += m1-0.1 * x1a-0.05*x1b==0\n",
    "kantorovich_problem += m2-0.05 * x2a - 0.033333* x2b==0;\n",
    "kantorovich_problem += m3- 0.033333 * x3a - 0.0125 * x3b==0;\n",
    "\n",
    "## output is sum of inputs x1+x2+x3= A\n",
    "kantorovich_problem += x1a+x2a+x3a -A==0\n",
    "kantorovich_problem += x1b+x2b+x3b -B==0"
   ]
  },
  {
   "cell_type": "code",
   "execution_count": 31,
   "metadata": {
    "ExecuteTime": {
     "end_time": "2020-07-10T22:15:23.993564Z",
     "start_time": "2020-07-10T22:15:23.987016Z"
    }
   },
   "outputs": [
    {
     "data": {
      "text/plain": [
       "The_Kantorovich_Problem:\n",
       "MAXIMIZE\n",
       "1*A + 0\n",
       "SUBJECT TO\n",
       "_C1: m1 <= 3\n",
       "\n",
       "_C2: m2 <= 3\n",
       "\n",
       "_C3: m3 <= 1\n",
       "\n",
       "_C4: A - B = 0\n",
       "\n",
       "_C5: m1 - 0.1 x1a - 0.05 x1b = 0\n",
       "\n",
       "_C6: m2 - 0.05 x2a - 0.033333 x2b = 0\n",
       "\n",
       "_C7: m3 - 0.033333 x3a - 0.0125 x3b = 0\n",
       "\n",
       "_C8: - A + x1a + x2a + x3a = 0\n",
       "\n",
       "_C9: - B + x1b + x2b + x3b = 0\n",
       "\n",
       "VARIABLES\n",
       "A Continuous\n",
       "B Continuous\n",
       "m1 Continuous\n",
       "m2 Continuous\n",
       "m3 Continuous\n",
       "x1a Continuous\n",
       "x1b Continuous\n",
       "x2a Continuous\n",
       "x2b Continuous\n",
       "x3a Continuous\n",
       "x3b Continuous"
      ]
     },
     "execution_count": 31,
     "metadata": {},
     "output_type": "execute_result"
    }
   ],
   "source": [
    "kantorovich_problem"
   ]
  },
  {
   "cell_type": "code",
   "execution_count": 33,
   "metadata": {
    "ExecuteTime": {
     "end_time": "2020-07-10T22:15:28.157845Z",
     "start_time": "2020-07-10T22:15:28.151251Z"
    }
   },
   "outputs": [
    {
     "data": {
      "text/plain": [
       "'Optimal'"
      ]
     },
     "execution_count": 33,
     "metadata": {},
     "output_type": "execute_result"
    }
   ],
   "source": [
    "pulp.LpStatus[kantorovich_problem.status]"
   ]
  },
  {
   "cell_type": "code",
   "execution_count": 34,
   "metadata": {
    "ExecuteTime": {
     "end_time": "2020-07-10T22:15:29.730075Z",
     "start_time": "2020-07-10T22:15:29.722619Z"
    }
   },
   "outputs": [
    {
     "name": "stdout",
     "output_type": "stream",
     "text": [
      "A = 86.666667\n",
      "B = 86.666667\n",
      "m1 = 3.0\n",
      "m2 = 3.0\n",
      "m3 = 1.0\n",
      "x1a = 26.666667\n",
      "x1b = 6.6666667\n",
      "x2a = 60.0\n",
      "x2b = 0.0\n",
      "x3a = 0.0\n",
      "x3b = 80.0\n"
     ]
    }
   ],
   "source": [
    "for variable in kantorovich_problem.variables():\n",
    "    print (\"{} = {}\".format(variable.name, variable.varValue))"
   ]
  },
  {
   "cell_type": "markdown",
   "metadata": {},
   "source": [
    "## Aritificial Data"
   ]
  },
  {
   "cell_type": "code",
   "execution_count": 48,
   "metadata": {},
   "outputs": [
    {
     "data": {
      "text/html": [
       "<div>\n",
       "<style scoped>\n",
       "    .dataframe tbody tr th:only-of-type {\n",
       "        vertical-align: middle;\n",
       "    }\n",
       "\n",
       "    .dataframe tbody tr th {\n",
       "        vertical-align: top;\n",
       "    }\n",
       "\n",
       "    .dataframe thead th {\n",
       "        text-align: right;\n",
       "    }\n",
       "</style>\n",
       "<table border=\"1\" class=\"dataframe\">\n",
       "  <thead>\n",
       "    <tr style=\"text-align: right;\">\n",
       "      <th></th>\n",
       "      <th>Type of machine</th>\n",
       "      <th>Number of machines</th>\n",
       "      <th>O0_x</th>\n",
       "      <th>O1_x</th>\n",
       "      <th>O2_x</th>\n",
       "      <th>O3_x</th>\n",
       "      <th>O0_y</th>\n",
       "      <th>O1_y</th>\n",
       "      <th>O2_y</th>\n",
       "      <th>O3_y</th>\n",
       "    </tr>\n",
       "  </thead>\n",
       "  <tbody>\n",
       "    <tr>\n",
       "      <th>0</th>\n",
       "      <td>m0</td>\n",
       "      <td>8</td>\n",
       "      <td>111</td>\n",
       "      <td>137</td>\n",
       "      <td>174</td>\n",
       "      <td>109</td>\n",
       "      <td>888</td>\n",
       "      <td>1096</td>\n",
       "      <td>1392</td>\n",
       "      <td>872</td>\n",
       "    </tr>\n",
       "    <tr>\n",
       "      <th>1</th>\n",
       "      <td>m1</td>\n",
       "      <td>9</td>\n",
       "      <td>105</td>\n",
       "      <td>136</td>\n",
       "      <td>161</td>\n",
       "      <td>176</td>\n",
       "      <td>945</td>\n",
       "      <td>1224</td>\n",
       "      <td>1449</td>\n",
       "      <td>1584</td>\n",
       "    </tr>\n",
       "    <tr>\n",
       "      <th>2</th>\n",
       "      <td>m2</td>\n",
       "      <td>13</td>\n",
       "      <td>166</td>\n",
       "      <td>116</td>\n",
       "      <td>188</td>\n",
       "      <td>122</td>\n",
       "      <td>2158</td>\n",
       "      <td>1508</td>\n",
       "      <td>2444</td>\n",
       "      <td>1586</td>\n",
       "    </tr>\n",
       "  </tbody>\n",
       "</table>\n",
       "</div>"
      ],
      "text/plain": [
       "  Type of machine  Number of machines  O0_x  O1_x  O2_x  O3_x  O0_y  O1_y  \\\n",
       "0              m0                   8   111   137   174   109   888  1096   \n",
       "1              m1                   9   105   136   161   176   945  1224   \n",
       "2              m2                  13   166   116   188   122  2158  1508   \n",
       "\n",
       "   O2_y  O3_y  \n",
       "0  1392   872  \n",
       "1  1449  1584  \n",
       "2  2444  1586  "
      ]
     },
     "execution_count": 48,
     "metadata": {},
     "output_type": "execute_result"
    }
   ],
   "source": [
    "import numpy as np\n",
    "import pandas as pd \n",
    "\n",
    "rng=np.random.RandomState(1917)\n",
    "\n",
    "def generate_random_dictionary(n_input,n_output):\n",
    "    data= {'Type of machine':['m{}'.format(i) for i in range(n_input)],\n",
    "            'Number of machines':rng.randint(1,20,size=n_input)}\n",
    "    \n",
    "    for j in range(n_output):\n",
    "        name='O{}'.format(j)\n",
    "        data[name]=rng.randint(100,200,size=n_input)\n",
    "    \n",
    "        \n",
    "    return data\n",
    "\n",
    "data=generate_random_dictionary(3,4)\n",
    "df=pd.DataFrame(data)\n",
    "\n",
    "n_machines=df['Number of machines']\n",
    "n_machines=n_machines[:,np.newaxis]\n",
    "\n",
    "output_matrix=df.loc[:,'O0':]\n",
    "\n",
    "total=n_machines * output_matrix\n",
    "pd.merge(df,total,how='inner',left_on=df.index,right_on=df.index).drop('key_0',axis=1)"
   ]
  },
  {
   "cell_type": "code",
   "execution_count": 49,
   "metadata": {
    "ExecuteTime": {
     "end_time": "2020-07-12T18:41:29.166340Z",
     "start_time": "2020-07-12T18:41:29.136049Z"
    }
   },
   "outputs": [],
   "source": [
    "kantorovich_problem2 = pulp.LpProblem(\"The_Kantorovich_Problem2\",pulp.LpMaximize)\n",
    "\n",
    "O0 = pulp.LpVariable('O0',lowBound=0)\n",
    "O1 = pulp.LpVariable('O1',lowBound=0)\n",
    "O2 = pulp.LpVariable('O2',lowBound=0)\n",
    "O3 = pulp.LpVariable('O3',lowBound=0)\n",
    "\n",
    "m1 = pulp.LpVariable('m1',lowBound=0)\n",
    "m2 = pulp.LpVariable('m2',lowBound=0)\n",
    "m3 = pulp.LpVariable('m3',lowBound=0)\n",
    "\n",
    "\n",
    "x1O0 = pulp.LpVariable('x1O0',lowBound=0)\n",
    "x1O1 = pulp.LpVariable('x1O1',lowBound=0)\n",
    "x1O2 = pulp.LpVariable('x1O2',lowBound=0)\n",
    "x1O3 = pulp.LpVariable('x1O3',lowBound=0)\n",
    "\n",
    "x2O0 = pulp.LpVariable('x2O0',lowBound=0)\n",
    "x2O1 = pulp.LpVariable('x2O1',lowBound=0)\n",
    "x2O2 = pulp.LpVariable('x2O2',lowBound=0)\n",
    "x2O3 = pulp.LpVariable('x2O3',lowBound=0)\n",
    "\n",
    "x3O0 = pulp.LpVariable('x3O0',lowBound=0)\n",
    "x3O1 = pulp.LpVariable('x3O1',lowBound=0)\n",
    "x3O2 = pulp.LpVariable('x3O2',lowBound=0)\n",
    "x3O3 = pulp.LpVariable('x3O3',lowBound=0)"
   ]
  },
  {
<<<<<<< HEAD
   "cell_type": "markdown",
=======
   "cell_type": "code",
   "execution_count": 50,
   "metadata": {},
   "outputs": [
    {
     "data": {
      "text/plain": [
       "The_Kantorovich_Problem2:\n",
       "MAXIMIZE\n",
       "1*O3 + 0\n",
       "SUBJECT TO\n",
       "_C1: m1 <= 8\n",
       "\n",
       "_C2: m1 <= 9\n",
       "\n",
       "_C3: m1 <= 13\n",
       "\n",
       "_C4: O0 - O1 - O2 - O3 = 0\n",
       "\n",
       "_C5: m1 - 0.00900900900901 x1O0 - 0.00729927007299 x1O1\n",
       " - 0.00574712643678 x1O2 - 0.00917431192661 x1O3 = 0\n",
       "\n",
       "_C6: m2 - 0.00952380952381 x2O0 - 0.00735294117647 x2O1\n",
       " - 0.00621118012422 x2O2 - 0.00568181818182 x2O3 = 0\n",
       "\n",
       "_C7: m3 - 0.00602409638554 x3O0 - 0.00862068965517 x3O1\n",
       " - 0.00531914893617 x3O2 - 0.00819672131148 x3O3 = 0\n",
       "\n",
       "_C8: - O0 + x1O0 + x1O1 + x1O2 + x1O3 = 0\n",
       "\n",
       "_C9: - O1 + x2O0 + x2O1 + x2O2 + x2O3 = 0\n",
       "\n",
       "_C10: - O2 + x3O0 + x3O1 + x3O2 + x3O3 = 0\n",
       "\n",
       "_C11: - O3 + x3O0 + x3O1 + x3O2 + x3O3 = 0\n",
       "\n",
       "VARIABLES\n",
       "O0 Continuous\n",
       "O1 Continuous\n",
       "O2 Continuous\n",
       "O3 Continuous\n",
       "m1 Continuous\n",
       "m2 Continuous\n",
       "m3 Continuous\n",
       "x1O0 Continuous\n",
       "x1O1 Continuous\n",
       "x1O2 Continuous\n",
       "x1O3 Continuous\n",
       "x2O0 Continuous\n",
       "x2O1 Continuous\n",
       "x2O2 Continuous\n",
       "x2O3 Continuous\n",
       "x3O0 Continuous\n",
       "x3O1 Continuous\n",
       "x3O2 Continuous\n",
       "x3O3 Continuous"
      ]
     },
     "execution_count": 50,
     "metadata": {},
     "output_type": "execute_result"
    }
   ],
   "source": [
    "# Objective function\n",
    "kantorovich_problem2 += pulp.lpSum(O3)\n",
    "\n",
    "## constraints \n",
    "kantorovich_problem2 += m1 <=8\n",
    "kantorovich_problem2 += m1 <=9\n",
    "kantorovich_problem2 += m1 <=13\n",
    "kantorovich_problem2 += O0 - O1 - O2 - O3 ==0\n",
    "\n",
    "kantorovich_problem2 += m1 - 8/888 * x1O0 - 8/1096 * x1O1 - 8/1392 * x1O2 - 8/872 * x1O3==0\n",
    "kantorovich_problem2 += m2 - 9/945 * x2O0 -  9/1224 * x2O1 -9/1449 * x2O2 - 9/1584 * x2O3 ==0\n",
    "kantorovich_problem2 += m3 - 13/2158 * x3O0 -  13/1508 * x3O1 - 13/2444 * x3O2 - 13/1586 * x3O3 ==0\n",
    "\n",
    "kantorovich_problem2 += x1O0 + x1O1+ x1O2+ x1O3 - O0 ==0\n",
    "kantorovich_problem2 += x2O0 + x2O1+ x2O2+ x2O3 - O1 ==0\n",
    "kantorovich_problem2 += x3O0 + x3O1+ x3O2+ x3O3 - O2 ==0\n",
    "kantorovich_problem2 += x3O0 + x3O1+ x3O2+ x3O3 - O3 ==0\n",
    "\n",
    "## \n",
    "kantorovich_problem2"
   ]
  },
  {
   "cell_type": "code",
   "execution_count": 51,
>>>>>>> 98968b92c5a290b1862f2c808c2373a04a83cd05
   "metadata": {
    "ExecuteTime": {
     "end_time": "2020-07-12T19:17:00.828200Z",
     "start_time": "2020-07-12T19:17:00.817434Z"
    }
   },
<<<<<<< HEAD
   "source": [
    "| Table 3 | Variables                    |\n",
    "|---------|------------------------------|\n",
    "| e       | total energy output          |\n",
    "| ec      | household energy consumption |\n",
    "| f       | food                         |\n",
    "| v       | valleys                      |\n",
    "| w       | windmills                    |\n",
    "| m       | machines                     |\n",
    "| d       | dams                         |\n",
    "| u       | undammed valleys             |\n",
    "| h       | highland                     |\n",
    "| fh      | food produced on high land   |\n",
    "| fv      | food produced in valleys     |"
   ]
  },
  {
   "cell_type": "markdown",
   "metadata": {},
   "source": [
    "| Table 4                      | Constraints          |\n",
    "|------------------------------|----------------------|\n",
    "| final output mix             | f=3ec                |\n",
    "| number of valleys            | v=4                  |\n",
    "| dams use valleys             | v−u=d                |\n",
    "| valley food output           | fv=50000u            |\n",
    "| valley farm labour           | lv=10000u            |\n",
    "| valley energy use            | ev=20000u            |\n",
    "| valley farm machines         | mv=1000u             |\n",
    "| highland food prod           | fh=20000h            |\n",
    "| highland farm labour         | lh=10000h            |\n",
    "| highland energy use          | eh=10000h            |\n",
    "| highland farm machines       | mh=800h              |\n",
    "| energy production            | e=500w+60000d        |\n",
    "| energy workers               | le=100d+4w           |\n",
    "| machines in energy prod      | me=80d+6w            |\n",
    "| workers making machines      | lm=10m               |\n",
    "| energy used to make machines | em=20m               |"
   ]
  },
  {
   "cell_type": "code",
   "execution_count": 27,
   "metadata": {
    "ExecuteTime": {
     "end_time": "2020-07-13T02:39:24.704684Z",
     "start_time": "2020-07-13T02:39:24.692794Z"
    }
   },
   "outputs": [],
   "source": [
    "plan=pulp.LpProblem(\"Planning_Problem\",pulp.LpMaximize)\n",
    "\n",
    "e = pulp.LpVariable('e',lowBound=0)\n",
    "w = pulp.LpVariable('w',lowBound=0)\n",
    "ec = pulp.LpVariable('ec',lowBound=0)\n",
    "f= pulp.LpVariable('f',lowBound=0)\n",
    "v= pulp.LpVariable('v',lowBound=0)\n",
    "m= pulp.LpVariable('m',lowBound=0)\n",
    "d= pulp.LpVariable('d',lowBound=0)\n",
    "u= pulp.LpVariable('u',lowBound=0)\n",
    "h= pulp.LpVariable('h',lowBound=0)\n",
    "fh=pulp.LpVariable('fh',lowBound=0)\n",
    "fv=pulp.LpVariable('fv',lowBound=0)\n",
    "lv= pulp.LpVariable('lv',lowBound=0)\n",
    "ev= pulp.LpVariable('ev',lowBound=0)\n",
    "mv= pulp.LpVariable('mv',lowBound=0)\n",
    "lh= pulp.LpVariable('lh',lowBound=0)\n",
    "le= pulp.LpVariable('le',lowBound=0)\n",
    "eh= pulp.LpVariable('eh',lowBound=0)\n",
    "mh= pulp.LpVariable('mh',lowBound=0)\n",
    "me= pulp.LpVariable('me',lowBound=0)\n",
    "lm= pulp.LpVariable('lm',lowBound=0)\n",
    "em= pulp.LpVariable('em',lowBound=0)\n"
=======
   "outputs": [
    {
     "data": {
      "text/plain": [
       "1"
      ]
     },
     "execution_count": 51,
     "metadata": {},
     "output_type": "execute_result"
    }
   ],
   "source": [
    "kantorovich_problem2.solve()"
>>>>>>> 98968b92c5a290b1862f2c808c2373a04a83cd05
   ]
  },
  {
   "cell_type": "code",
<<<<<<< HEAD
   "execution_count": 28,
   "metadata": {
    "ExecuteTime": {
     "end_time": "2020-07-13T02:39:25.503454Z",
     "start_time": "2020-07-13T02:39:25.491012Z"
    }
   },
   "outputs": [],
   "source": [
    "plan += pulp.lpSum(f==3*ec)\n",
    "\n",
    "plan +=v==4\n",
    "plan +=v-u==d\n",
    "plan +=fv==50000 * u \n",
    "plan +=lv==10000 * u \n",
    "plan +=ev==20000 * u\n",
    "plan +=mv==1000 * u \n",
    "plan +=fh==20000 * h\n",
    "plan +=lh==10000 * h \n",
    "plan +=eh==10000* h \n",
    "plan +=mh==800 * h \n",
    "plan +=e==500 * w + 60000 *d\n",
    "plan +=le==100 *d + 4 *w\n",
    "plan +=me==80 *d + 6 *w\n",
    "plan +=lm==10 * m\n",
    "plan +=em==20 * m \n",
    "\n",
    "plan +=em+ev+eh+ec <= e\n",
    "\n",
    "plan +=me+mh+mv <= m\n",
    "\n",
    "plan +=f==fh+fv\n",
    "\n",
    "plan+= lm+le+lv+lh <= 104000\n",
    "\n",
    "\n"
   ]
  },
  {
   "cell_type": "code",
   "execution_count": 29,
   "metadata": {
    "ExecuteTime": {
     "end_time": "2020-07-13T02:39:29.017412Z",
     "start_time": "2020-07-13T02:39:29.011398Z"
    }
   },
   "outputs": [
    {
     "data": {
      "text/plain": [
       "Planning_Problem:\n",
       "MAXIMIZE\n",
       "-3*ec + 1*f + 0\n",
       "SUBJECT TO\n",
       "_C1: v = 4\n",
       "\n",
       "_C2: - d - u + v = 0\n",
       "\n",
       "_C3: fv - 50000 u = 0\n",
       "\n",
       "_C4: lv - 10000 u = 0\n",
       "\n",
       "_C5: ev - 20000 u = 0\n",
       "\n",
       "_C6: mv - 1000 u = 0\n",
       "\n",
       "_C7: fh - 20000 h = 0\n",
       "\n",
       "_C8: - 10000 h + lh = 0\n",
       "\n",
       "_C9: eh - 10000 h = 0\n",
       "\n",
       "_C10: - 800 h + mh = 0\n",
       "\n",
       "_C11: - 60000 d + e - 500 w = 0\n",
       "\n",
       "_C12: - 100 d + le - 4 w = 0\n",
       "\n",
       "_C13: - 80 d + me - 6 w = 0\n",
       "\n",
       "_C14: lm - 10 m = 0\n",
       "\n",
       "_C15: em - 20 m = 0\n",
       "\n",
       "_C16: - e + ec + eh + em + ev <= 0\n",
       "\n",
       "_C17: - m + me + mh + mv <= 0\n",
       "\n",
       "_C18: f - fh - fv = 0\n",
       "\n",
       "_C19: le + lh + lm + lv <= 104000\n",
       "\n",
       "VARIABLES\n",
       "d Continuous\n",
       "e Continuous\n",
       "ec Continuous\n",
       "eh Continuous\n",
       "em Continuous\n",
       "ev Continuous\n",
       "f Continuous\n",
       "fh Continuous\n",
       "fv Continuous\n",
       "h Continuous\n",
       "le Continuous\n",
       "lh Continuous\n",
       "lm Continuous\n",
       "lv Continuous\n",
       "m Continuous\n",
       "me Continuous\n",
       "mh Continuous\n",
       "mv Continuous\n",
       "u Continuous\n",
       "v Continuous\n",
       "w Continuous"
      ]
     },
     "execution_count": 29,
     "metadata": {},
     "output_type": "execute_result"
    }
   ],
   "source": [
    "plan"
   ]
  },
  {
   "cell_type": "code",
   "execution_count": 19,
   "metadata": {
    "ExecuteTime": {
     "end_time": "2020-07-13T02:33:46.200230Z",
     "start_time": "2020-07-13T02:33:46.167386Z"
    }
   },
   "outputs": [
    {
     "data": {
      "text/plain": [
       "'Optimal'"
      ]
     },
     "execution_count": 19,
     "metadata": {},
     "output_type": "execute_result"
    }
   ],
   "source": [
    "plan.solve()\n",
    "pulp.LpStatus[plan.status]"
   ]
  },
  {
   "cell_type": "code",
   "execution_count": 26,
   "metadata": {
    "ExecuteTime": {
     "end_time": "2020-07-13T02:36:40.899742Z",
     "start_time": "2020-07-13T02:36:40.885020Z"
    }
   },
   "outputs": [
    {
     "name": "stdout",
     "output_type": "stream",
     "text": [
      "d=1.130137\n",
      "e=67808.219\n",
      "ec=0.0\n",
      "eh=10000.0\n",
      "em=37808.219\n",
      "ev=20000.0\n",
      "f=70000.0\n",
      "fh=20000.0\n",
      "fv=50000.0\n",
      "le=113.0137\n",
      "lh=10000.0\n",
      "lm=18904.11\n",
      "lv=10000.0\n",
      "m=1890.411\n",
      "me=90.410959\n",
      "mh=800.0\n",
      "mv=1000.0\n",
      "u=2.869863\n",
      "v=4.0\n",
      "w=0.0\n"
     ]
    }
   ],
   "source": [
    "for var in plan.variables():\n",
    "    print(\"%s=%s\" % (var.name,var.varValue))"
=======
   "execution_count": 52,
   "metadata": {},
   "outputs": [
    {
     "name": "stdout",
     "output_type": "stream",
     "text": [
      "O0 = 1392.0\n",
      "O1 = 0.0\n",
      "O2 = 696.0\n",
      "O3 = 696.0\n",
      "m1 = 8.0\n",
      "m2 = 0.0\n",
      "m3 = 4.1927711\n",
      "x1O0 = 0.0\n",
      "x1O1 = 0.0\n",
      "x1O2 = 1392.0\n",
      "x1O3 = 0.0\n",
      "x2O0 = 0.0\n",
      "x2O1 = 0.0\n",
      "x2O2 = 0.0\n",
      "x2O3 = 0.0\n",
      "x3O0 = 696.0\n",
      "x3O1 = 0.0\n",
      "x3O2 = 0.0\n",
      "x3O3 = 0.0\n"
     ]
    }
   ],
   "source": [
    "for variable in kantorovich_problem2.variables():\n",
    "    print (\"{} = {}\".format(variable.name, variable.varValue))"
>>>>>>> 98968b92c5a290b1862f2c808c2373a04a83cd05
   ]
  },
  {
   "cell_type": "markdown",
   "metadata": {},
   "source": [
    "## Simple Planning Example"
   ]
  },
  {
   "cell_type": "markdown",
   "metadata": {},
   "source": []
  },
  {
   "cell_type": "markdown",
   "metadata": {},
   "source": [
    "| Table 4                      | Constraints          |\n",
    "|------------------------------|----------------------|\n",
    "| final output mix             | f=3ec                |\n",
    "| number of valleys            | v=4                  |\n",
    "| dams use valleys             | v−u=d                |\n",
    "| valley food output           | fv=50000u            |\n",
    "| valley farm labour           | lv=10000u            |\n",
    "| valley energy use            | ev=20000u            |\n",
    "| valley farm machines         | mv=1000u             |\n",
    "| highland food prod           | fh=20000h            |\n",
    "| highland farm labour         | lh=10000h            |\n",
    "| highland energy use          | eh=10000h            |\n",
    "| highland farm machines       | mh=800h              |\n",
    "| energy production            | e=500w+60000d        |\n",
    "| energy workers               | le=100d+4w           |\n",
    "| machines in energy prod      | me=80d+6w            |\n",
    "| workers making machines      | lm=10m               |\n",
    "| energy used to make machines | em=20m               |"
   ]
  },
  {
   "cell_type": "code",
   "execution_count": 6,
   "metadata": {
    "ExecuteTime": {
     "end_time": "2020-07-13T02:56:32.033174Z",
     "start_time": "2020-07-13T02:56:32.023297Z"
    }
   },
   "outputs": [],
   "source": [
    "plan=pulp.LpProblem(\"Planning_Problem\",pulp.LpMaximize)\n",
    "\n",
    "d= pulp.LpVariable('d',lowBound=0)\n",
    "e = pulp.LpVariable('e',lowBound=0)\n",
    "ec = pulp.LpVariable('ec',lowBound=0)\n",
    "eh= pulp.LpVariable('eh',lowBound=0)\n",
    "eh= pulp.LpVariable('eh',lowBound=0)\n",
    "em= pulp.LpVariable('em',lowBound=0)\n",
    "ev= pulp.LpVariable('ev',lowBound=0)\n",
    "f= pulp.LpVariable('f',lowBound=0)\n",
    "fh=pulp.LpVariable('fh',lowBound=0)\n",
    "fv=pulp.LpVariable('fv',lowBound=0)\n",
    "h= pulp.LpVariable('h',lowBound=0)\n",
    "lv= pulp.LpVariable('lv',lowBound=0)\n",
    "lh= pulp.LpVariable('lh',lowBound=0)\n",
    "le= pulp.LpVariable('le',lowBound=0)\n",
    "lm= pulp.LpVariable('lm',lowBound=0)\n",
    "m= pulp.LpVariable('m',lowBound=0)\n",
    "mv= pulp.LpVariable('mv',lowBound=0)\n",
    "mh= pulp.LpVariable('mh',lowBound=0)\n",
    "me= pulp.LpVariable('me',lowBound=0)\n",
    "w = pulp.LpVariable('w',lowBound=0)\n",
    "v= pulp.LpVariable('v',lowBound=0)\n",
    "u= pulp.LpVariable('u',lowBound=0)\n"
   ]
  },
  {
   "cell_type": "code",
   "execution_count": 7,
   "metadata": {
    "ExecuteTime": {
     "end_time": "2020-07-13T02:56:33.891918Z",
     "start_time": "2020-07-13T02:56:33.874383Z"
    }
   },
   "outputs": [
    {
     "data": {
      "text/plain": [
       "Planning_Problem:\n",
       "MAXIMIZE\n",
       "-3*ec + 1*f + 0\n",
       "SUBJECT TO\n",
       "_C1: v = 4\n",
       "\n",
       "_C2: - d - u + v = 0\n",
       "\n",
       "_C3: fv - 50000 u = 0\n",
       "\n",
       "_C4: lv - 10000 u = 0\n",
       "\n",
       "_C5: ev - 20000 u = 0\n",
       "\n",
       "_C6: mv - 1000 u = 0\n",
       "\n",
       "_C7: fh - 20000 h = 0\n",
       "\n",
       "_C8: - 10000 h + lh = 0\n",
       "\n",
       "_C9: eh - 10000 h = 0\n",
       "\n",
       "_C10: - 800 h + mh = 0\n",
       "\n",
       "_C11: - 60000 d + e - 500 w = 0\n",
       "\n",
       "_C12: - 100 d + le - 4 w = 0\n",
       "\n",
       "_C13: - 80 d + me - 6 w = 0\n",
       "\n",
       "_C14: lm - 10 m = 0\n",
       "\n",
       "_C15: em - 20 m = 0\n",
       "\n",
       "_C16: - e + ec + eh + em + ev <= 0\n",
       "\n",
       "_C17: - m + me + mh + mv <= 0\n",
       "\n",
       "_C18: f - fh - fv = 0\n",
       "\n",
       "_C19: le + lh + lm + lv <= 104000\n",
       "\n",
       "VARIABLES\n",
       "d Continuous\n",
       "e Continuous\n",
       "ec Continuous\n",
       "eh Continuous\n",
       "em Continuous\n",
       "ev Continuous\n",
       "f Continuous\n",
       "fh Continuous\n",
       "fv Continuous\n",
       "h Continuous\n",
       "le Continuous\n",
       "lh Continuous\n",
       "lm Continuous\n",
       "lv Continuous\n",
       "m Continuous\n",
       "me Continuous\n",
       "mh Continuous\n",
       "mv Continuous\n",
       "u Continuous\n",
       "v Continuous\n",
       "w Continuous"
      ]
     },
     "execution_count": 7,
     "metadata": {},
     "output_type": "execute_result"
    }
   ],
   "source": [
    "plan += pulp.lpSum(f==3*ec)\n",
    "\n",
    "plan +=v==4\n",
    "plan +=v-u==d\n",
    "plan +=fv==50000 * u \n",
    "plan +=lv==10000 * u \n",
    "plan +=ev==20000 * u\n",
    "plan +=mv==1000 * u \n",
    "plan +=fh==20000 * h\n",
    "plan +=lh==10000 * h \n",
    "plan +=eh==10000* h \n",
    "plan +=mh==800 * h \n",
    "plan +=e==500 * w + 60000 *d\n",
    "plan +=le==100 *d + 4 *w\n",
    "plan +=me==80 *d + 6 *w\n",
    "plan +=lm==10 * m\n",
    "plan +=em==20 * m \n",
    "\n",
    "plan +=em+ev+eh+ec <= e\n",
    "\n",
    "plan +=me+mh+mv <= m\n",
    "\n",
    "plan +=f==fh+fv\n",
    "\n",
    "plan+= lm+le+lv+lh <= 104000\n",
    "\n",
    "plan "
   ]
  },
  {
   "cell_type": "code",
   "execution_count": 8,
   "metadata": {
    "ExecuteTime": {
     "end_time": "2020-07-13T02:56:37.257116Z",
     "start_time": "2020-07-13T02:56:37.136012Z"
    }
   },
   "outputs": [
    {
     "name": "stdout",
     "output_type": "stream",
     "text": [
      "d=0.08262268\n",
      "e=204786.21\n",
      "ec=0.0\n",
      "eh=0.0\n",
      "em=126438.67\n",
      "ev=78347.546\n",
      "f=195868.87\n",
      "fh=0.0\n",
      "fv=195868.87\n",
      "h=0.0\n",
      "le=1606.8931\n",
      "lh=0.0\n",
      "lm=63219.334\n",
      "lv=39173.773\n",
      "m=6321.9334\n",
      "me=2404.5561\n",
      "mh=0.0\n",
      "mv=3917.3773\n",
      "u=3.9173773\n",
      "v=4.0\n",
      "w=399.65771\n"
     ]
    }
   ],
   "source": [
    "plan.solve()\n",
    "pulp.LpStatus[plan.status]\n",
    "\n",
    "for var in plan.variables():\n",
    "    print(\"%s=%s\" % (var.name,var.varValue))"
   ]
  }
 ],
 "metadata": {
  "kernelspec": {
   "display_name": "Python 3",
   "language": "python",
   "name": "python3"
  },
  "language_info": {
   "codemirror_mode": {
    "name": "ipython",
    "version": 3
   },
   "file_extension": ".py",
   "mimetype": "text/x-python",
   "name": "python",
   "nbconvert_exporter": "python",
   "pygments_lexer": "ipython3",
   "version": "3.7.1"
  }
 },
 "nbformat": 4,
 "nbformat_minor": 4
}
