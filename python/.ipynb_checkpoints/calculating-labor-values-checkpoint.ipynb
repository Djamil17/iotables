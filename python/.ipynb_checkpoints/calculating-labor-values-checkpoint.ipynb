{
 "cells": [
  {
   "cell_type": "markdown",
   "metadata": {},
   "source": [
    "# Calculating Labor-Values using Gauss-Seidel to Solve the Inverse-Leontief Matrix\n",
    "\n",
    "\n",
    "In general, let x1, x2, . . ., xn, be the total output of industry S1, S2, . . ., Sn,\n",
    "respectively. Then\n",
    "\n",
    "\n",
    "x1 = a11 x1 + a12 x1 + · · · + a1n x1 + b1\n",
    "x2 = a21 x1 + a22 x1 + · · · + a2n x2 + b2\n",
    ". . .\n",
    "xn = an1 x1 + an2 x1 + · · · + ann xn + bn ,\n",
    "\n",
    "since aij xj is the number of units produced by industry Si and consumed by industry Sj.\n",
    "\n",
    "X = AX + B \n",
    "InX − AX = B\n",
    "(In − A)X = B\n",
    "X = (In − A)−1 . B"
   ]
  },
  {
   "cell_type": "markdown",
   "metadata": {},
   "source": [
    "## Simplest Case : barely any ETL, run the baby \n",
    "\n",
    "### Thank you to Paul Cockshott for providing the cleaned-up data. "
   ]
  },
  {
   "cell_type": "code",
   "execution_count": 215,
   "metadata": {
    "ExecuteTime": {
     "end_time": "2020-06-24T20:37:20.298474Z",
     "start_time": "2020-06-24T20:37:20.282317Z"
    }
   },
   "outputs": [
    {
     "data": {
      "text/plain": [
       "Index(['AGRICULTURE, HUNTING, FORESTRY AND FISHING', 'MINING AND QUARRYING',\n",
       "       'FOOD PRODUCTS, BEVERAGES AND TOBACCO',\n",
       "       'TEXTILES, TEXTILE PRODUCTS, LEATHER AND FOOTWEAR',\n",
       "       'WOOD AND PRODUCTS OF WOOD AND CORK',\n",
       "       'PULP, PAPER, PAPER PRODUCTS, PRINTING AND PUBLISHING',\n",
       "       'COKE, REFINED PETROLEUM PRODUCTS AND NUCLEAR FUEL',\n",
       "       'CHEMICALS EXCLUDING PHARMACEUTICALS', 'PHARMACEUTICALS ',\n",
       "       'RUBBER AND PLASTICS PRODUCTS', 'OTHER NON-METALLIC MINERAL PRODUCTS',\n",
       "       'IRON & STEEL', 'NON-FERROUS METALS',\n",
       "       'FABRICATED METAL PRODUCTS, except machinery and equipment',\n",
       "       'MACHINERY AND EQUIPMENT, N.E.C.',\n",
       "       'OFFICE, ACCOUNTING AND COMPUTING MACHINERY',\n",
       "       'ELECTRICAL MACHINERY AND APPARATUS, NEC',\n",
       "       'RADIO, TELEVISION AND COMMUNICATION EQUIPMENT',\n",
       "       'MEDICAL, PRECISION AND OPTICAL INSTRUMENTS',\n",
       "       'MOTOR VEHICLES, TRAILERS AND SEMI-TRAILERS',\n",
       "       'BUILDING AND REPAIRING OF SHIPS AND BOATS', 'AIRCRAFT AND SPACECRAFT',\n",
       "       'RAILROAD EQUIPMENT AND TRANSPORT EQUIPMENT N.E.C.',\n",
       "       'MANUFACTURING NEC', ' RECYCLING', 'ELECTRICITY, GAS AND WATER SUPPLY',\n",
       "       'CONSTRUCTION', 'WHOLESALE AND RETAIL TRADE', ' REPAIRS ',\n",
       "       'HOTELS AND RESTAURANTS', 'TRANSPORT AND STORAGE',\n",
       "       'POST AND TELECOMMUNICATIONS', 'RENTING OF MACHINERY AND EQUIPMENT',\n",
       "       'COMPUTER AND RELATED ACTIVITIES', 'RESEARCH AND DEVELOPMENT',\n",
       "       'OTHER BUSINESS ACTIVITIES', 'EDUCATION', 'HEALTH AND SOCIAL WORK',\n",
       "       'OTHER COMMUNITY, SOCIAL AND PERSONAL SERVICES'],\n",
       "      dtype='object')"
      ]
     },
     "execution_count": 215,
     "metadata": {},
     "output_type": "execute_result"
    }
   ],
   "source": [
    "import numpy as np\n",
    "import pandas as pd\n",
    "\n",
    "## create a multi-index \n",
    "\n",
    "\n",
    "names=['AGRICULTURE, HUNTING, FORESTRY AND FISHING', 'MINING AND QUARRYING',\n",
    "       'FOOD PRODUCTS, BEVERAGES AND TOBACCO',\n",
    "       'TEXTILES, TEXTILE PRODUCTS, LEATHER AND FOOTWEAR',\n",
    "       'WOOD AND PRODUCTS OF WOOD AND CORK',\n",
    "       'PULP, PAPER, PAPER PRODUCTS, PRINTING AND PUBLISHING',\n",
    "       'COKE, REFINED PETROLEUM PRODUCTS AND NUCLEAR FUEL',\n",
    "       'CHEMICALS EXCLUDING PHARMACEUTICALS', 'PHARMACEUTICALS ',\n",
    "       'RUBBER AND PLASTICS PRODUCTS', 'OTHER NON-METALLIC MINERAL PRODUCTS',\n",
    "       'IRON & STEEL', 'NON-FERROUS METALS',\n",
    "       'FABRICATED METAL PRODUCTS, except machinery and equipment',\n",
    "       'MACHINERY AND EQUIPMENT, N.E.C.',\n",
    "       'OFFICE, ACCOUNTING AND COMPUTING MACHINERY',\n",
    "       'ELECTRICAL MACHINERY AND APPARATUS, NEC',\n",
    "       'RADIO, TELEVISION AND COMMUNICATION EQUIPMENT',\n",
    "       'MEDICAL, PRECISION AND OPTICAL INSTRUMENTS',\n",
    "       'MOTOR VEHICLES, TRAILERS AND SEMI-TRAILERS',\n",
    "       'BUILDING AND REPAIRING OF SHIPS AND BOATS', 'AIRCRAFT AND SPACECRAFT',\n",
    "       'RAILROAD EQUIPMENT AND TRANSPORT EQUIPMENT N.E.C.',\n",
    "       'MANUFACTURING NEC RECYCLING', 'ELECTRICITY, GAS AND WATER SUPPLY',\n",
    "       'CONSTRUCTION', 'WHOLESALE AND RETAIL TRADE', ' REPAIRS ',\n",
    "       'HOTELS AND RESTAURANTS', 'TRANSPORT AND STORAGE',\n",
    "       'POST AND TELECOMMUNICATIONS', 'RENTING OF MACHINERY AND EQUIPMENT',\n",
    "       'COMPUTER AND RELATED ACTIVITIES', 'RESEARCH AND DEVELOPMENT',\n",
    "       'OTHER BUSINESS ACTIVITIES', 'EDUCATION', 'HEALTH AND SOCIAL WORK',\n",
    "       'OTHER COMMUNITY, SOCIAL AND PERSONAL SERVICES']\n",
    "\n",
    "file='../data/UK.csv'\n",
    "with open(file, 'rt') as f:\n",
    "    data=pd.read_csv(f,index_col='Titles')\n",
    "\n",
    "data.columns"
   ]
  },
  {
   "cell_type": "code",
   "execution_count": 195,
   "metadata": {
    "ExecuteTime": {
     "end_time": "2020-06-24T20:25:27.561386Z",
     "start_time": "2020-06-24T20:25:27.521951Z"
    }
   },
   "outputs": [
    {
     "ename": "LinAlgError",
     "evalue": "Singular matrix",
     "output_type": "error",
     "traceback": [
      "\u001b[0;31m---------------------------------------------------------------------------\u001b[0m",
      "\u001b[0;31mLinAlgError\u001b[0m                               Traceback (most recent call last)",
      "\u001b[0;32m<ipython-input-195-8f31e3890983>\u001b[0m in \u001b[0;36m<module>\u001b[0;34m\u001b[0m\n\u001b[1;32m     15\u001b[0m     \u001b[0;32mreturn\u001b[0m \u001b[0mx\u001b[0m\u001b[0;34m\u001b[0m\u001b[0;34m\u001b[0m\u001b[0m\n\u001b[1;32m     16\u001b[0m \u001b[0;34m\u001b[0m\u001b[0m\n\u001b[0;32m---> 17\u001b[0;31m \u001b[0mgauss\u001b[0m\u001b[0;34m(\u001b[0m\u001b[0mdata\u001b[0m\u001b[0;34m,\u001b[0m\u001b[0mdata\u001b[0m\u001b[0;34m.\u001b[0m\u001b[0miloc\u001b[0m\u001b[0;34m[\u001b[0m\u001b[0;34m-\u001b[0m\u001b[0;36m1\u001b[0m\u001b[0;34m,\u001b[0m\u001b[0;34m:\u001b[0m\u001b[0;34m]\u001b[0m\u001b[0;34m.\u001b[0m\u001b[0mvalues\u001b[0m\u001b[0;34m,\u001b[0m\u001b[0;36m100\u001b[0m\u001b[0;34m)\u001b[0m\u001b[0;34m\u001b[0m\u001b[0;34m\u001b[0m\u001b[0m\n\u001b[0m",
      "\u001b[0;32m<ipython-input-195-8f31e3890983>\u001b[0m in \u001b[0;36mgauss\u001b[0;34m(A, b, n)\u001b[0m\n\u001b[1;32m     10\u001b[0m     \u001b[0mU\u001b[0m \u001b[0;34m=\u001b[0m \u001b[0mA\u001b[0m \u001b[0;34m-\u001b[0m \u001b[0mL\u001b[0m\u001b[0;34m\u001b[0m\u001b[0;34m\u001b[0m\u001b[0m\n\u001b[1;32m     11\u001b[0m     \u001b[0;32mfor\u001b[0m \u001b[0mi\u001b[0m \u001b[0;32min\u001b[0m \u001b[0mrange\u001b[0m\u001b[0;34m(\u001b[0m\u001b[0mn\u001b[0m\u001b[0;34m)\u001b[0m\u001b[0;34m:\u001b[0m\u001b[0;34m\u001b[0m\u001b[0;34m\u001b[0m\u001b[0m\n\u001b[0;32m---> 12\u001b[0;31m         \u001b[0mx\u001b[0m \u001b[0;34m=\u001b[0m \u001b[0mnp\u001b[0m\u001b[0;34m.\u001b[0m\u001b[0mdot\u001b[0m\u001b[0;34m(\u001b[0m\u001b[0mnp\u001b[0m\u001b[0;34m.\u001b[0m\u001b[0mlinalg\u001b[0m\u001b[0;34m.\u001b[0m\u001b[0minv\u001b[0m\u001b[0;34m(\u001b[0m\u001b[0mL\u001b[0m\u001b[0;34m)\u001b[0m\u001b[0;34m,\u001b[0m \u001b[0mb\u001b[0m \u001b[0;34m-\u001b[0m \u001b[0mnp\u001b[0m\u001b[0;34m.\u001b[0m\u001b[0mdot\u001b[0m\u001b[0;34m(\u001b[0m\u001b[0mU\u001b[0m\u001b[0;34m,\u001b[0m \u001b[0mx\u001b[0m\u001b[0;34m)\u001b[0m\u001b[0;34m)\u001b[0m\u001b[0;34m\u001b[0m\u001b[0;34m\u001b[0m\u001b[0m\n\u001b[0m\u001b[1;32m     13\u001b[0m         \u001b[0mprint\u001b[0m \u001b[0;34m(\u001b[0m\u001b[0mstr\u001b[0m\u001b[0;34m(\u001b[0m\u001b[0mi\u001b[0m\u001b[0;34m)\u001b[0m\u001b[0;34m.\u001b[0m\u001b[0mzfill\u001b[0m\u001b[0;34m(\u001b[0m\u001b[0;36m3\u001b[0m\u001b[0;34m)\u001b[0m\u001b[0;34m)\u001b[0m\u001b[0;34m\u001b[0m\u001b[0;34m\u001b[0m\u001b[0m\n\u001b[1;32m     14\u001b[0m         \u001b[0mprint\u001b[0m\u001b[0;34m(\u001b[0m\u001b[0mx\u001b[0m\u001b[0;34m)\u001b[0m\u001b[0;34m\u001b[0m\u001b[0;34m\u001b[0m\u001b[0m\n",
      "\u001b[0;32m<__array_function__ internals>\u001b[0m in \u001b[0;36minv\u001b[0;34m(*args, **kwargs)\u001b[0m\n",
      "\u001b[0;32m/anaconda3/lib/python3.7/site-packages/numpy/linalg/linalg.py\u001b[0m in \u001b[0;36minv\u001b[0;34m(a)\u001b[0m\n\u001b[1;32m    545\u001b[0m     \u001b[0msignature\u001b[0m \u001b[0;34m=\u001b[0m \u001b[0;34m'D->D'\u001b[0m \u001b[0;32mif\u001b[0m \u001b[0misComplexType\u001b[0m\u001b[0;34m(\u001b[0m\u001b[0mt\u001b[0m\u001b[0;34m)\u001b[0m \u001b[0;32melse\u001b[0m \u001b[0;34m'd->d'\u001b[0m\u001b[0;34m\u001b[0m\u001b[0;34m\u001b[0m\u001b[0m\n\u001b[1;32m    546\u001b[0m     \u001b[0mextobj\u001b[0m \u001b[0;34m=\u001b[0m \u001b[0mget_linalg_error_extobj\u001b[0m\u001b[0;34m(\u001b[0m\u001b[0m_raise_linalgerror_singular\u001b[0m\u001b[0;34m)\u001b[0m\u001b[0;34m\u001b[0m\u001b[0;34m\u001b[0m\u001b[0m\n\u001b[0;32m--> 547\u001b[0;31m     \u001b[0mainv\u001b[0m \u001b[0;34m=\u001b[0m \u001b[0m_umath_linalg\u001b[0m\u001b[0;34m.\u001b[0m\u001b[0minv\u001b[0m\u001b[0;34m(\u001b[0m\u001b[0ma\u001b[0m\u001b[0;34m,\u001b[0m \u001b[0msignature\u001b[0m\u001b[0;34m=\u001b[0m\u001b[0msignature\u001b[0m\u001b[0;34m,\u001b[0m \u001b[0mextobj\u001b[0m\u001b[0;34m=\u001b[0m\u001b[0mextobj\u001b[0m\u001b[0;34m)\u001b[0m\u001b[0;34m\u001b[0m\u001b[0;34m\u001b[0m\u001b[0m\n\u001b[0m\u001b[1;32m    548\u001b[0m     \u001b[0;32mreturn\u001b[0m \u001b[0mwrap\u001b[0m\u001b[0;34m(\u001b[0m\u001b[0mainv\u001b[0m\u001b[0;34m.\u001b[0m\u001b[0mastype\u001b[0m\u001b[0;34m(\u001b[0m\u001b[0mresult_t\u001b[0m\u001b[0;34m,\u001b[0m \u001b[0mcopy\u001b[0m\u001b[0;34m=\u001b[0m\u001b[0;32mFalse\u001b[0m\u001b[0;34m)\u001b[0m\u001b[0;34m)\u001b[0m\u001b[0;34m\u001b[0m\u001b[0;34m\u001b[0m\u001b[0m\n\u001b[1;32m    549\u001b[0m \u001b[0;34m\u001b[0m\u001b[0m\n",
      "\u001b[0;32m/anaconda3/lib/python3.7/site-packages/numpy/linalg/linalg.py\u001b[0m in \u001b[0;36m_raise_linalgerror_singular\u001b[0;34m(err, flag)\u001b[0m\n\u001b[1;32m     95\u001b[0m \u001b[0;34m\u001b[0m\u001b[0m\n\u001b[1;32m     96\u001b[0m \u001b[0;32mdef\u001b[0m \u001b[0m_raise_linalgerror_singular\u001b[0m\u001b[0;34m(\u001b[0m\u001b[0merr\u001b[0m\u001b[0;34m,\u001b[0m \u001b[0mflag\u001b[0m\u001b[0;34m)\u001b[0m\u001b[0;34m:\u001b[0m\u001b[0;34m\u001b[0m\u001b[0;34m\u001b[0m\u001b[0m\n\u001b[0;32m---> 97\u001b[0;31m     \u001b[0;32mraise\u001b[0m \u001b[0mLinAlgError\u001b[0m\u001b[0;34m(\u001b[0m\u001b[0;34m\"Singular matrix\"\u001b[0m\u001b[0;34m)\u001b[0m\u001b[0;34m\u001b[0m\u001b[0;34m\u001b[0m\u001b[0m\n\u001b[0m\u001b[1;32m     98\u001b[0m \u001b[0;34m\u001b[0m\u001b[0m\n\u001b[1;32m     99\u001b[0m \u001b[0;32mdef\u001b[0m \u001b[0m_raise_linalgerror_nonposdef\u001b[0m\u001b[0;34m(\u001b[0m\u001b[0merr\u001b[0m\u001b[0;34m,\u001b[0m \u001b[0mflag\u001b[0m\u001b[0;34m)\u001b[0m\u001b[0;34m:\u001b[0m\u001b[0;34m\u001b[0m\u001b[0;34m\u001b[0m\u001b[0m\n",
      "\u001b[0;31mLinAlgError\u001b[0m: Singular matrix"
     ]
    }
   ],
   "source": [
    "import numpy as np\n",
    "from scipy.linalg import solve\n",
    "\n",
    "\n",
    "def gauss(A, b, n):\n",
    "    \n",
    "    m=b.shape[0]\n",
    "    X=np.ones((m, 1))\n",
    "    L = np.tril(A)\n",
    "    U = A - L\n",
    "    for i in range(n):\n",
    "        x = np.dot(np.linalg.inv(L), b - np.dot(U, x))\n",
    "        print (str(i).zfill(3))\n",
    "        print(x)\n",
    "    return x\n",
    "\n",
    "gauss(data,data.iloc[-1,:].values,100)"
   ]
  },
  {
   "cell_type": "code",
   "execution_count": 185,
   "metadata": {
    "ExecuteTime": {
     "end_time": "2020-06-24T20:17:25.560761Z",
     "start_time": "2020-06-24T20:17:25.552356Z"
    }
   },
   "outputs": [
    {
     "ename": "SyntaxError",
     "evalue": "invalid syntax (<ipython-input-185-eca95a19d3ce>, line 19)",
     "output_type": "error",
     "traceback": [
      "\u001b[0;36m  File \u001b[0;32m\"<ipython-input-185-eca95a19d3ce>\"\u001b[0;36m, line \u001b[0;32m19\u001b[0m\n\u001b[0;31m    Gauss_Seidel(a_,  ,200)\u001b[0m\n\u001b[0m                      ^\u001b[0m\n\u001b[0;31mSyntaxError\u001b[0m\u001b[0;31m:\u001b[0m invalid syntax\n"
     ]
    }
   ],
   "source": [
    "def Gauss_Seidel(A, b, iteration):\n",
    "\n",
    "    [m, n] = np.shape(A)\n",
    "\n",
    "    U = np.triu(A, 1)\n",
    "    L = np.tril(A)\n",
    "\n",
    "    x = np.ones((m, 1))\n",
    "\n",
    "    for i in range(iteration):\n",
    "\n",
    "        xn = np.dot(np.linalg.inv(L), (b - np.dot(U, x)))\n",
    "        x = xn\n",
    "        \n",
    "    print(x)\n",
    "\n",
    "\n",
    "\n",
    "Gauss_Seidel(a_,  ,200)"
   ]
  },
  {
   "cell_type": "code",
   "execution_count": 138,
   "metadata": {
    "ExecuteTime": {
     "end_time": "2020-06-24T19:41:07.416279Z",
     "start_time": "2020-06-24T19:41:07.409701Z"
    }
   },
   "outputs": [
    {
     "data": {
      "text/plain": [
       "(38, 38)"
      ]
     },
     "execution_count": 138,
     "metadata": {},
     "output_type": "execute_result"
    }
   ],
   "source": [
    "data.iloc[0:38].shape"
   ]
  },
  {
   "cell_type": "code",
   "execution_count": 204,
   "metadata": {
    "ExecuteTime": {
     "end_time": "2020-06-24T20:33:37.517072Z",
     "start_time": "2020-06-24T20:33:37.501587Z"
    }
   },
   "outputs": [],
   "source": [
    "pd.read_csv?"
   ]
  },
  {
   "cell_type": "code",
   "execution_count": null,
   "metadata": {},
   "outputs": [],
   "source": [
    "# io_index_values=data.index.values[1:]\n",
    "# name_index_values=data['Industries/Commodities'].values[1:]\n",
    "\n",
    "# io_column_values=data.columns.values[1:]\n",
    "# name_column_values=data.iloc[0,1:].values\n",
    "# val=data.iloc[1:,1:].values\n",
    "\n",
    "# indexes=pd.MultiIndex.from_arrays([io_index_values,name_index_values], names=['IOCode','Name'])\n",
    "# columns=pd.MultiIndex.from_arrays([io_column_values,name_column_values], names=['Industry_Code','Industry_Name'])\n",
    "\n",
    "# data_indexed=pd.DataFrame(val, index=indexes, columns=columns)\n",
    "# data_indexed"
   ]
  }
 ],
 "metadata": {
  "kernelspec": {
   "display_name": "Python 3",
   "language": "python",
   "name": "python3"
  },
  "language_info": {
   "codemirror_mode": {
    "name": "ipython",
    "version": 3
   },
   "file_extension": ".py",
   "mimetype": "text/x-python",
   "name": "python",
   "nbconvert_exporter": "python",
   "pygments_lexer": "ipython3",
   "version": "3.7.1"
  }
 },
 "nbformat": 4,
 "nbformat_minor": 4
}
