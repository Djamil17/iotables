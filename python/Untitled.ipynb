{
 "cells": [
  {
   "cell_type": "code",
   "execution_count": 4,
   "metadata": {
    "ExecuteTime": {
     "end_time": "2020-07-19T23:53:52.040806Z",
     "start_time": "2020-07-19T23:53:52.034007Z"
    }
   },
   "outputs": [
    {
     "name": "stdout",
     "output_type": "stream",
     "text": [
      "Writing add_array.f95\n"
     ]
    }
   ],
   "source": [
    "%%writefile add_array.f95\n",
    "\n",
    "PROGRAM array\n",
    "  real :: x(5) = (/ 1, 2, 3, 4 ,5 /)\n",
    "  print *, SUM(x)                        ! all elements, sum = 15\n",
    "  print *, SUM(x, MASK=MOD(x, 2)==1)     ! odd elements, sum = 9\n",
    "END PROGRAM"
   ]
  },
  {
   "cell_type": "code",
   "execution_count": 7,
   "metadata": {
    "ExecuteTime": {
     "end_time": "2020-07-19T23:54:03.520563Z",
     "start_time": "2020-07-19T23:54:03.059196Z"
    }
   },
   "outputs": [],
   "source": [
    "%%bash \n",
    "\n",
    "gfortran add_array.f95  -o add_array.exe"
   ]
  },
  {
   "cell_type": "code",
   "execution_count": 10,
   "metadata": {
    "ExecuteTime": {
     "end_time": "2020-07-19T23:54:24.829968Z",
     "start_time": "2020-07-19T23:54:24.783651Z"
    }
   },
   "outputs": [
    {
     "name": "stdout",
     "output_type": "stream",
     "text": [
      "          15\n",
      "           9\n"
     ]
    }
   ],
   "source": [
    "%%bash \n",
    "\n",
    "./add_array.exe"
   ]
  }
 ],
 "metadata": {
  "kernelspec": {
   "display_name": "Python 3",
   "language": "python",
   "name": "python3"
  },
  "language_info": {
   "codemirror_mode": {
    "name": "ipython",
    "version": 3
   },
   "file_extension": ".py",
   "mimetype": "text/x-python",
   "name": "python",
   "nbconvert_exporter": "python",
   "pygments_lexer": "ipython3",
   "version": "3.7.1"
  },
  "toc": {
   "base_numbering": 1,
   "nav_menu": {},
   "number_sections": true,
   "sideBar": true,
   "skip_h1_title": false,
   "title_cell": "Table of Contents",
   "title_sidebar": "Contents",
   "toc_cell": false,
   "toc_position": {},
   "toc_section_display": true,
   "toc_window_display": false
  }
 },
 "nbformat": 4,
 "nbformat_minor": 4
}
